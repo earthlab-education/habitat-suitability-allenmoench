{
 "cells": [
  {
   "cell_type": "code",
   "execution_count": 1,
   "metadata": {},
   "outputs": [
    {
     "name": "stderr",
     "output_type": "stream",
     "text": [
      "c:\\Users\\moenc\\miniconda3\\envs\\earth-analytics-python\\Lib\\site-packages\\dask\\dataframe\\__init__.py:42: FutureWarning: \n",
      "Dask dataframe query planning is disabled because dask-expr is not installed.\n",
      "\n",
      "You can install it with `pip install dask[dataframe]` or `conda install dask`.\n",
      "This will raise in a future version.\n",
      "\n",
      "  warnings.warn(msg, FutureWarning)\n"
     ]
    }
   ],
   "source": [
    "import os\n",
    "import re\n",
    "import pathlib\n",
    "from glob import glob\n",
    "\n",
    "import matplotlib.pyplot as plt\n",
    "import earthaccess\n",
    "import xrspatial\n",
    "import geopandas as gpd\n",
    "import rioxarray as rxr\n",
    "import rioxarray.merge as rxrmerge"
   ]
  },
  {
   "cell_type": "code",
   "execution_count": 2,
   "metadata": {},
   "outputs": [],
   "source": [
    "%store -r shey_gdf p_soil_url_list"
   ]
  },
  {
   "cell_type": "code",
   "execution_count": 3,
   "metadata": {},
   "outputs": [],
   "source": [
    "# build project and elevation directories\n",
    "\n",
    "data_dir = os.path.join(\n",
    "    pathlib.Path.home(),\n",
    "    'earth-analytics',\n",
    "    'data'\n",
    ")\n",
    "project_dir = os.path.join(data_dir, 'habitat_suitability')\n",
    "elevation_dir = os.path.join(data_dir, 'srtm')\n",
    "\n",
    "os.makedirs(elevation_dir, exist_ok=True)"
   ]
  },
  {
   "cell_type": "code",
   "execution_count": 4,
   "metadata": {},
   "outputs": [
    {
     "data": {
      "text/plain": [
       "<earthaccess.auth.Auth at 0x24bcd837710>"
      ]
     },
     "execution_count": 4,
     "metadata": {},
     "output_type": "execute_result"
    }
   ],
   "source": [
    "# login to earthaccess\n",
    "earthaccess.login(strategy=\"interactive\", persist=True)"
   ]
  },
  {
   "cell_type": "code",
   "execution_count": 5,
   "metadata": {},
   "outputs": [
    {
     "name": "stdout",
     "output_type": "stream",
     "text": [
      "NASADEM_SHHP NASADEM SRTM-only Height and Height Precision Mosaic Global 1 arc second V001\n",
      "NASADEM_SIM NASADEM SRTM Image Mosaic Global 1 arc second V001\n",
      "NASADEM_SSP NASADEM SRTM Subswath Global 1 arc second V001\n",
      "C_Pools_Fluxes_CONUS_1837 CMS: Terrestrial Carbon Stocks, Emissions, and Fluxes for Conterminous US, 2001-2016\n",
      "SRTMGL1 NASA Shuttle Radar Topography Mission Global 1 arc second V003\n",
      "GEDI01_B GEDI L1B Geolocated Waveform Data Global Footprint Level V002\n",
      "GEDI02_B GEDI L2B Canopy Cover and Vertical Profile Metrics Data Global Footprint Level V002\n",
      "NASADEM_HGT NASADEM Merged DEM Global 1 arc second V001\n",
      "SRTMGL3 NASA Shuttle Radar Topography Mission Global 3 arc second V003\n",
      "SRTMGL1_NC NASA Shuttle Radar Topography Mission Global 1 arc second NetCDF V003\n",
      "SRTMGL30 NASA Shuttle Radar Topography Mission Global 30 arc second V002\n"
     ]
    }
   ],
   "source": [
    "# search for the appropriate DEM\n",
    "\n",
    "datasets = earthaccess.search_datasets(keyword='SRTM DEM', count=11)\n",
    "for dataset in datasets:\n",
    "    print(dataset['umm']['ShortName'], dataset['umm']['EntryTitle'])"
   ]
  },
  {
   "cell_type": "code",
   "execution_count": 9,
   "metadata": {},
   "outputs": [],
   "source": [
    "# Define a pattern to identify DEM tiles associated with Comanche National Grassland.\n",
    "srtm_p_pattern = os.path.join(elevation_dir, 'N46*hgt.zip')\n",
    "bounds_p = tuple(shey_gdf.total_bounds)\n",
    "buffer = 0.25\n",
    "xmin, ymin, xmax, ymax = bounds_p\n",
    "bounds_buffer = (xmin-buffer, ymin-buffer, xmax+buffer, ymax+buffer)\n",
    "if not glob(srtm_p_pattern):\n",
    "    srtm_p_results = earthaccess.search_data(\n",
    "        short_name = \"SRTMGL1\",\n",
    "        bounding_box=bounds_buffer    \n",
    "    )\n",
    "    srtm_p_results = earthaccess.download(srtm_p_results, elevation_dir)"
   ]
  },
  {
   "cell_type": "code",
   "execution_count": 12,
   "metadata": {},
   "outputs": [
    {
     "name": "stdout",
     "output_type": "stream",
     "text": [
      "Unzipped: C:\\Users\\moenc\\earth-analytics\\data\\srtm\\N46W103.SRTMGL1.hgt.zip\n",
      "Unzipped: C:\\Users\\moenc\\earth-analytics\\data\\srtm\\N46W104.SRTMGL1.hgt.zip\n",
      "Unzipped: C:\\Users\\moenc\\earth-analytics\\data\\srtm\\N46W105.SRTMGL1.hgt.zip\n"
     ]
    },
    {
     "ename": "NoDataInBounds",
     "evalue": "No data found in bounds.",
     "output_type": "error",
     "traceback": [
      "\u001b[1;31m---------------------------------------------------------------------------\u001b[0m",
      "\u001b[1;31mNoDataInBounds\u001b[0m                            Traceback (most recent call last)",
      "Cell \u001b[1;32mIn[12], line 24\u001b[0m\n\u001b[0;32m     22\u001b[0m \u001b[38;5;28;01mfor\u001b[39;00m srtm_p_path \u001b[38;5;129;01min\u001b[39;00m srtm_p_pattern:\n\u001b[0;32m     23\u001b[0m     tile_da \u001b[38;5;241m=\u001b[39m rxr\u001b[38;5;241m.\u001b[39mopen_rasterio(srtm_p_path, mask_and_scale\u001b[38;5;241m=\u001b[39m\u001b[38;5;28;01mTrue\u001b[39;00m)\u001b[38;5;241m.\u001b[39msqueeze()\n\u001b[1;32m---> 24\u001b[0m     cropped_da \u001b[38;5;241m=\u001b[39m \u001b[43mtile_da\u001b[49m\u001b[38;5;241;43m.\u001b[39;49m\u001b[43mrio\u001b[49m\u001b[38;5;241;43m.\u001b[39;49m\u001b[43mclip_box\u001b[49m\u001b[43m(\u001b[49m\u001b[38;5;241;43m*\u001b[39;49m\u001b[43mbounds_buffer\u001b[49m\u001b[43m)\u001b[49m\n\u001b[0;32m     25\u001b[0m     srtm_p_da_list\u001b[38;5;241m.\u001b[39mappend(cropped_da)\n\u001b[0;32m     27\u001b[0m srtm_p_da \u001b[38;5;241m=\u001b[39m rxrmerge\u001b[38;5;241m.\u001b[39mmerge_arrays(srtm_p_da_list)\n",
      "File \u001b[1;32mc:\\Users\\moenc\\miniconda3\\envs\\earth-analytics-python\\Lib\\site-packages\\rioxarray\\raster_array.py:826\u001b[0m, in \u001b[0;36mRasterArray.clip_box\u001b[1;34m(self, minx, miny, maxx, maxy, auto_expand, auto_expand_limit, crs, allow_one_dimensional_raster)\u001b[0m\n\u001b[0;32m    824\u001b[0m     \u001b[38;5;28;01mraise\u001b[39;00m window_error\n\u001b[0;32m    825\u001b[0m \u001b[38;5;28;01mif\u001b[39;00m cl_array\u001b[38;5;241m.\u001b[39mrio\u001b[38;5;241m.\u001b[39mwidth \u001b[38;5;241m<\u001b[39m \u001b[38;5;241m1\u001b[39m \u001b[38;5;129;01mor\u001b[39;00m cl_array\u001b[38;5;241m.\u001b[39mrio\u001b[38;5;241m.\u001b[39mheight \u001b[38;5;241m<\u001b[39m \u001b[38;5;241m1\u001b[39m:\n\u001b[1;32m--> 826\u001b[0m     \u001b[38;5;28;01mraise\u001b[39;00m NoDataInBounds(\n\u001b[0;32m    827\u001b[0m         \u001b[38;5;124mf\u001b[39m\u001b[38;5;124m\"\u001b[39m\u001b[38;5;124mNo data found in bounds.\u001b[39m\u001b[38;5;132;01m{\u001b[39;00m_get_data_var_message(\u001b[38;5;28mself\u001b[39m\u001b[38;5;241m.\u001b[39m_obj)\u001b[38;5;132;01m}\u001b[39;00m\u001b[38;5;124m\"\u001b[39m\n\u001b[0;32m    828\u001b[0m     )\n\u001b[0;32m    829\u001b[0m \u001b[38;5;28;01mif\u001b[39;00m \u001b[38;5;129;01mnot\u001b[39;00m allow_one_dimensional_raster \u001b[38;5;129;01mand\u001b[39;00m (\n\u001b[0;32m    830\u001b[0m     cl_array\u001b[38;5;241m.\u001b[39mrio\u001b[38;5;241m.\u001b[39mwidth \u001b[38;5;241m==\u001b[39m \u001b[38;5;241m1\u001b[39m \u001b[38;5;129;01mor\u001b[39;00m cl_array\u001b[38;5;241m.\u001b[39mrio\u001b[38;5;241m.\u001b[39mheight \u001b[38;5;241m==\u001b[39m \u001b[38;5;241m1\u001b[39m\n\u001b[0;32m    831\u001b[0m ):\n\u001b[0;32m    832\u001b[0m     \u001b[38;5;28;01mraise\u001b[39;00m OneDimensionalRaster(\n\u001b[0;32m    833\u001b[0m         \u001b[38;5;124m\"\u001b[39m\u001b[38;5;124mAt least one of the clipped raster x,y coordinates\u001b[39m\u001b[38;5;124m\"\u001b[39m\n\u001b[0;32m    834\u001b[0m         \u001b[38;5;124m\"\u001b[39m\u001b[38;5;124m has only one point.\u001b[39m\u001b[38;5;124m\"\u001b[39m\n\u001b[0;32m    835\u001b[0m         \u001b[38;5;124mf\u001b[39m\u001b[38;5;124m\"\u001b[39m\u001b[38;5;132;01m{\u001b[39;00m_get_data_var_message(\u001b[38;5;28mself\u001b[39m\u001b[38;5;241m.\u001b[39m_obj)\u001b[38;5;132;01m}\u001b[39;00m\u001b[38;5;124m. \u001b[39m\u001b[38;5;124m\"\u001b[39m\n\u001b[0;32m    836\u001b[0m         \u001b[38;5;124m\"\u001b[39m\u001b[38;5;124mSet allow_one_dimensional_raster=True to disable this error.\u001b[39m\u001b[38;5;124m\"\u001b[39m\n\u001b[0;32m    837\u001b[0m     )\n",
      "\u001b[1;31mNoDataInBounds\u001b[0m: No data found in bounds."
     ]
    }
   ],
   "source": [
    "import os\n",
    "import zipfile\n",
    "import rioxarray as rxr\n",
    "import matplotlib.pyplot as plt\n",
    "from glob import glob\n",
    "import rioxarray.merge as rxrmerge\n",
    "\n",
    "# Define patterns for the DEM tiles\n",
    "srtm_p_pattern = glob(os.path.join(elevation_dir, 'N46*hgt.zip'))\n",
    "\n",
    "# Ensure files are unzipped before processing\n",
    "for zip_path in srtm_p_pattern:\n",
    "    extract_path = elevation_dir  # Extract to the same directory\n",
    "    with zipfile.ZipFile(zip_path, 'r') as zip_ref:\n",
    "        zip_ref.extractall(extract_path)\n",
    "    print(f\"Unzipped: {zip_path}\")\n",
    "\n",
    "# Now update the pattern to look for extracted .hgt files\n",
    "srtm_p_pattern = glob(os.path.join(elevation_dir, 'N46*.hgt'))\n",
    "\n",
    "srtm_p_da_list = []\n",
    "for srtm_p_path in srtm_p_pattern:\n",
    "    tile_da = rxr.open_rasterio(srtm_p_path, mask_and_scale=True).squeeze()\n",
    "    cropped_da = tile_da.rio.clip_box(*bounds_buffer)\n",
    "    srtm_p_da_list.append(cropped_da)\n",
    "\n",
    "srtm_p_da = rxrmerge.merge_arrays(srtm_p_da_list)\n",
    "srtm_p_da.plot(cmap='terrain')\n",
    "shey_gdf.boundary.plot(ax=plt.gca(), color='white')\n"
   ]
  },
  {
   "cell_type": "code",
   "execution_count": 13,
   "metadata": {},
   "outputs": [
    {
     "ename": "TypeError",
     "evalue": "expected str, bytes or os.PathLike object, not list",
     "output_type": "error",
     "traceback": [
      "\u001b[1;31m---------------------------------------------------------------------------\u001b[0m",
      "\u001b[1;31mTypeError\u001b[0m                                 Traceback (most recent call last)",
      "Cell \u001b[1;32mIn[13], line 3\u001b[0m\n\u001b[0;32m      1\u001b[0m \u001b[38;5;66;03m# Print the DEM for Comanche natl. Grassland\u001b[39;00m\n\u001b[0;32m      2\u001b[0m srtm_p_da_list\u001b[38;5;241m=\u001b[39m[]\n\u001b[1;32m----> 3\u001b[0m \u001b[38;5;28;01mfor\u001b[39;00m srtm_p_path \u001b[38;5;129;01min\u001b[39;00m \u001b[43mglob\u001b[49m\u001b[43m(\u001b[49m\u001b[43msrtm_p_pattern\u001b[49m\u001b[43m)\u001b[49m:\n\u001b[0;32m      4\u001b[0m     tile_da \u001b[38;5;241m=\u001b[39m rxr\u001b[38;5;241m.\u001b[39mopen_rasterio(srtm_p_path, mask_and_scale\u001b[38;5;241m=\u001b[39m\u001b[38;5;28;01mTrue\u001b[39;00m)\u001b[38;5;241m.\u001b[39msqueeze()\n\u001b[0;32m      5\u001b[0m     cropped_da \u001b[38;5;241m=\u001b[39m tile_da\u001b[38;5;241m.\u001b[39mrio\u001b[38;5;241m.\u001b[39mclip_box(\u001b[38;5;241m*\u001b[39mbounds_buffer)\n",
      "File \u001b[1;32mc:\\Users\\moenc\\miniconda3\\envs\\earth-analytics-python\\Lib\\glob.py:28\u001b[0m, in \u001b[0;36mglob\u001b[1;34m(pathname, root_dir, dir_fd, recursive, include_hidden)\u001b[0m\n\u001b[0;32m     13\u001b[0m \u001b[38;5;28;01mdef\u001b[39;00m \u001b[38;5;21mglob\u001b[39m(pathname, \u001b[38;5;241m*\u001b[39m, root_dir\u001b[38;5;241m=\u001b[39m\u001b[38;5;28;01mNone\u001b[39;00m, dir_fd\u001b[38;5;241m=\u001b[39m\u001b[38;5;28;01mNone\u001b[39;00m, recursive\u001b[38;5;241m=\u001b[39m\u001b[38;5;28;01mFalse\u001b[39;00m,\n\u001b[0;32m     14\u001b[0m         include_hidden\u001b[38;5;241m=\u001b[39m\u001b[38;5;28;01mFalse\u001b[39;00m):\n\u001b[0;32m     15\u001b[0m \u001b[38;5;250m    \u001b[39m\u001b[38;5;124;03m\"\"\"Return a list of paths matching a pathname pattern.\u001b[39;00m\n\u001b[0;32m     16\u001b[0m \n\u001b[0;32m     17\u001b[0m \u001b[38;5;124;03m    The pattern may contain simple shell-style wildcards a la\u001b[39;00m\n\u001b[1;32m   (...)\u001b[0m\n\u001b[0;32m     26\u001b[0m \u001b[38;5;124;03m    zero or more directories and subdirectories.\u001b[39;00m\n\u001b[0;32m     27\u001b[0m \u001b[38;5;124;03m    \"\"\"\u001b[39;00m\n\u001b[1;32m---> 28\u001b[0m     \u001b[38;5;28;01mreturn\u001b[39;00m \u001b[38;5;28mlist\u001b[39m(iglob(pathname, root_dir\u001b[38;5;241m=\u001b[39mroot_dir, dir_fd\u001b[38;5;241m=\u001b[39mdir_fd, recursive\u001b[38;5;241m=\u001b[39mrecursive,\n\u001b[0;32m     29\u001b[0m                       include_hidden\u001b[38;5;241m=\u001b[39minclude_hidden))\n",
      "File \u001b[1;32mc:\\Users\\moenc\\miniconda3\\envs\\earth-analytics-python\\Lib\\glob.py:62\u001b[0m, in \u001b[0;36m_iglob\u001b[1;34m(pathname, root_dir, dir_fd, recursive, dironly, include_hidden)\u001b[0m\n\u001b[0;32m     60\u001b[0m \u001b[38;5;28;01mdef\u001b[39;00m \u001b[38;5;21m_iglob\u001b[39m(pathname, root_dir, dir_fd, recursive, dironly,\n\u001b[0;32m     61\u001b[0m            include_hidden\u001b[38;5;241m=\u001b[39m\u001b[38;5;28;01mFalse\u001b[39;00m):\n\u001b[1;32m---> 62\u001b[0m     dirname, basename \u001b[38;5;241m=\u001b[39m \u001b[43mos\u001b[49m\u001b[38;5;241;43m.\u001b[39;49m\u001b[43mpath\u001b[49m\u001b[38;5;241;43m.\u001b[39;49m\u001b[43msplit\u001b[49m\u001b[43m(\u001b[49m\u001b[43mpathname\u001b[49m\u001b[43m)\u001b[49m\n\u001b[0;32m     63\u001b[0m     \u001b[38;5;28;01mif\u001b[39;00m \u001b[38;5;129;01mnot\u001b[39;00m has_magic(pathname):\n\u001b[0;32m     64\u001b[0m         \u001b[38;5;28;01massert\u001b[39;00m \u001b[38;5;129;01mnot\u001b[39;00m dironly\n",
      "File \u001b[1;32m<frozen ntpath>:213\u001b[0m, in \u001b[0;36msplit\u001b[1;34m(p)\u001b[0m\n",
      "\u001b[1;31mTypeError\u001b[0m: expected str, bytes or os.PathLike object, not list"
     ]
    }
   ],
   "source": [
    "# Print the DEM for Comanche natl. Grassland\n",
    "srtm_p_da_list=[]\n",
    "for srtm_p_path in glob(srtm_p_pattern):\n",
    "    tile_da = rxr.open_rasterio(srtm_p_path, mask_and_scale=True).squeeze()\n",
    "    cropped_da = tile_da.rio.clip_box(*bounds_buffer)\n",
    "    srtm_p_da_list.append(cropped_da)\n",
    "    \n",
    "srtm_p_da = rxrmerge.merge_arrays(srtm_p_da_list)\n",
    "srtm_p_da.plot(cmap='terrain')\n",
    "shey_gdf.boundary.plot(ax=plt.gca(), color='black')"
   ]
  }
 ],
 "metadata": {
  "kernelspec": {
   "display_name": "earth-analytics-python",
   "language": "python",
   "name": "python3"
  },
  "language_info": {
   "codemirror_mode": {
    "name": "ipython",
    "version": 3
   },
   "file_extension": ".py",
   "mimetype": "text/x-python",
   "name": "python",
   "nbconvert_exporter": "python",
   "pygments_lexer": "ipython3",
   "version": "3.11.10"
  }
 },
 "nbformat": 4,
 "nbformat_minor": 2
}
