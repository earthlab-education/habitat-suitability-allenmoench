{
 "cells": [
  {
   "cell_type": "code",
   "execution_count": 2,
   "metadata": {},
   "outputs": [],
   "source": [
    "# Imports\n",
    "import os\n",
    "import rioxarray as rxr\n",
    "import xarray as xr\n",
    "import numpy as np"
   ]
  },
  {
   "cell_type": "code",
   "execution_count": 3,
   "metadata": {},
   "outputs": [],
   "source": [
    "%store -r c_soil_url_list"
   ]
  },
  {
   "cell_type": "code",
   "execution_count": 4,
   "metadata": {},
   "outputs": [],
   "source": [
    "def calculate_suitability_score(raster, optimal_value, tolerance_range):\n",
    "    \"\"\"\n",
    "    Calculate a fuzzy suitability score (0–1) for each raster cell based on proximity to the optimal value.\n",
    "\n",
    "    Args:\n",
    "        raster (xarray.DataArray): Input raster layer.\n",
    "        optimal_value (float): The optimal value for the variable.\n",
    "        tolerance_range (float): The range within which values are considered suitable.\n",
    "\n",
    "    Returns:\n",
    "        xarray.DataArray: A raster of suitability scores (0–1).\n",
    "    \"\"\"\n",
    "    # Calculate suitability scores using a fuzzy Gaussian function\n",
    "    suitability = np.exp(-((raster - optimal_value) ** 2) / (2 * tolerance_range ** 2))\n",
    "    return suitability\n",
    "\n",
    "raster = c_soil_url_list\n",
    "optimal_value = 6.4\n",
    "tolerance_range = 3.2"
   ]
  },
  {
   "cell_type": "code",
   "execution_count": null,
   "metadata": {},
   "outputs": [],
   "source": [
    "def build_habitat_suitability_model(\n",
    "        input_rasters, optimal_values, tolerance_ranges, output_dir, threshold=None):\n",
    "    \"\"\"\n",
    "    Build a habitat suitability model by combining fuzzy suitability scores for each variable.\n",
    "\n",
    "    Args:\n",
    "        input_rasters (list): List of paths to input raster files representing environmental variables.\n",
    "        optimal_values (list): List of optimal values for each variable.\n",
    "        tolerance_ranges (list): List of tolerance ranges for each variable.\n",
    "        output_dir (str): Directory to save the combined suitability raster.\n",
    "        threshold (float, optional): Threshold for highlighting highly suitable areas (default is None).\n",
    "\n",
    "    Returns:\n",
    "        str: Path to the final combined suitability raster.\n",
    "    \"\"\"\n",
    "    input_rasters = [c_soil_url_list]\n",
    "    optimal_values = [\n",
    "        (pH >= 6.0 and pH <= 6.8), \n",
    "        (pr >= 25 and pr <= 31), \n",
    "        (temp >= 85 and temp <= 95), \n",
    "        (soil_type in ['sand', 'clay'])\n",
    "        ]\n",
    "    tolerance_ranges = [\n",
    "        (pH>=4.8 and pH<=8.0), \n",
    "        (pr>=11 and pr<=45), \n",
    "        (temp>=60)\n",
    "        ]\n",
    "    output_dir = os.path.join('earth-analytics', 'data', \n",
    "                            'habitat_suitability', 'suitability_raster')\n",
    "    threshold = 0.85"
   ]
  },
  {
   "cell_type": "code",
   "execution_count": null,
   "metadata": {},
   "outputs": [],
   "source": [
    "os.makedirs(output_dir, exist_ok=True)\n",
    "\n",
    "    # Load and calculate suitability scores for each raster\n",
    "    suitability_layers = []\n",
    "    for raster_path, optimal_value, tolerance_range in zip(input_rasters, optimal_values, tolerance_ranges):\n",
    "        raster = rxr.open_rasterio(raster_path, masked=True).squeeze()\n",
    "        suitability_layer = calculate_suitability_score(raster, optimal_value, tolerance_range)\n",
    "        suitability_layers.append(suitability_layer)\n",
    "\n",
    "    # Combine suitability scores by multiplying across all layers\n",
    "    combined_suitability = suitability_layers[0]\n",
    "    for layer in suitability_layers[1:]:\n",
    "        combined_suitability *= layer\n",
    "\n",
    "    # Apply a threshold if provided\n",
    "    if threshold is not None:\n",
    "        combined_suitability = xr.where(combined_suitability >= threshold, combined_suitability, 0)\n",
    "\n",
    "    # Save the combined suitability raster\n",
    "    output_file = os.path.join(output_dir, \"combined_suitability.tif\")\n",
    "    combined_suitability.rio.to_raster(output_file)\n",
    "    print(f\"Combined suitability raster saved to: {output_file}\")\n",
    "\n",
    "    return output_file"
   ]
  },
  {
   "cell_type": "code",
   "execution_count": null,
   "metadata": {},
   "outputs": [],
   "source": [
    "# Example usage\n",
    "if __name__ == \"__main__\":\n",
    "    # Paths to input raster files (e.g., temperature, precipitation, soil pH)\n",
    "    input_rasters = [\n",
    "        \"path_to_temperature_raster/temperature.tif\",\n",
    "        \"path_to_precipitation_raster/precipitation.tif\",\n",
    "        \"path_to_soil_ph_raster/soil_ph.tif\"\n",
    "    ]\n",
    "\n",
    "    # Optimal values for Sorghastrum nutans for each variable\n",
    "    optimal_values = [25.0, 1000.0, 6.5]  # Example: temperature in °C, precipitation in mm, soil pH\n",
    "\n",
    "    # Tolerance ranges for each variable\n",
    "    tolerance_ranges = [5.0, 200.0, 0.5]  # Example: acceptable deviation for each variable\n",
    "\n",
    "    # Output directory to save the combined suitability raster\n",
    "    output_dir = \"path_to_output_directory\"\n",
    "\n",
    "    # Optional threshold to highlight highly suitable areas (e.g., 0.8)\n",
    "    threshold = 0.8\n",
    "\n",
    "    # Build the habitat suitability model\n",
    "    combined_suitability_file = build_habitat_suitability_model(\n",
    "        input_rasters, optimal_values, tolerance_ranges, output_dir, threshold\n",
    "    )\n",
    "\n",
    "    print(\"Habitat suitability model created:\", combined_suitability_file)"
   ]
  }
 ],
 "metadata": {
  "kernelspec": {
   "display_name": "earth-analytics-python",
   "language": "python",
   "name": "python3"
  },
  "language_info": {
   "codemirror_mode": {
    "name": "ipython",
    "version": 3
   },
   "file_extension": ".py",
   "mimetype": "text/x-python",
   "name": "python",
   "nbconvert_exporter": "python",
   "pygments_lexer": "ipython3",
   "version": "3.11.10"
  }
 },
 "nbformat": 4,
 "nbformat_minor": 2
}
