{
 "cells": [
  {
   "cell_type": "code",
   "execution_count": 3,
   "metadata": {},
   "outputs": [
    {
     "name": "stderr",
     "output_type": "stream",
     "text": [
      "c:\\Users\\moenc\\miniconda3\\envs\\earth-analytics-python\\Lib\\site-packages\\dask\\dataframe\\__init__.py:42: FutureWarning: \n",
      "Dask dataframe query planning is disabled because dask-expr is not installed.\n",
      "\n",
      "You can install it with `pip install dask[dataframe]` or `conda install dask`.\n",
      "This will raise in a future version.\n",
      "\n",
      "  warnings.warn(msg, FutureWarning)\n"
     ]
    }
   ],
   "source": [
    "# import libraries\n",
    "import os\n",
    "import re\n",
    "import pathlib\n",
    "from glob import glob\n",
    "\n",
    "import matplotlib.pyplot as plt\n",
    "import earthaccess\n",
    "import xrspatial\n",
    "import geopandas as gpd\n",
    "import rioxarray as rxr\n",
    "import rioxarray.merge as rxrmerge"
   ]
  },
  {
   "cell_type": "code",
   "execution_count": 1,
   "metadata": {},
   "outputs": [],
   "source": [
    "%store -r curl_gdf shey_gdf c_soil_url_list p_soil_url_list"
   ]
  },
  {
   "cell_type": "code",
   "execution_count": 27,
   "metadata": {},
   "outputs": [
    {
     "data": {
      "text/plain": [
       "'C:\\\\Users\\\\moenc\\\\earth-analytics\\\\data'"
      ]
     },
     "execution_count": 27,
     "metadata": {},
     "output_type": "execute_result"
    }
   ],
   "source": [
    "# build project and elevation directories\n",
    "\n",
    "data_dir = os.path.join(\n",
    "    pathlib.Path.home(),\n",
    "    'earth-analytics',\n",
    "    'data'\n",
    ")\n",
    "project_dir = os.path.join(data_dir, 'habitat_suitability')\n",
    "elevation_dir = os.path.join(data_dir, 'srtm')\n",
    "\n",
    "os.makedirs(elevation_dir, exist_ok=True)\n",
    "data_dir"
   ]
  },
  {
   "cell_type": "code",
   "execution_count": 5,
   "metadata": {},
   "outputs": [
    {
     "data": {
      "text/plain": [
       "<earthaccess.auth.Auth at 0x28a7b4e1e10>"
      ]
     },
     "execution_count": 5,
     "metadata": {},
     "output_type": "execute_result"
    }
   ],
   "source": [
    "# login to earthaccess\n",
    "earthaccess.login(strategy=\"interactive\", persist=True)"
   ]
  },
  {
   "cell_type": "code",
   "execution_count": 6,
   "metadata": {},
   "outputs": [
    {
     "name": "stdout",
     "output_type": "stream",
     "text": [
      "NASADEM_SHHP NASADEM SRTM-only Height and Height Precision Mosaic Global 1 arc second V001\n",
      "NASADEM_SIM NASADEM SRTM Image Mosaic Global 1 arc second V001\n",
      "NASADEM_SSP NASADEM SRTM Subswath Global 1 arc second V001\n",
      "C_Pools_Fluxes_CONUS_1837 CMS: Terrestrial Carbon Stocks, Emissions, and Fluxes for Conterminous US, 2001-2016\n",
      "SRTMGL1 NASA Shuttle Radar Topography Mission Global 1 arc second V003\n",
      "GEDI01_B GEDI L1B Geolocated Waveform Data Global Footprint Level V002\n",
      "GEDI02_B GEDI L2B Canopy Cover and Vertical Profile Metrics Data Global Footprint Level V002\n",
      "NASADEM_HGT NASADEM Merged DEM Global 1 arc second V001\n",
      "SRTMGL3 NASA Shuttle Radar Topography Mission Global 3 arc second V003\n",
      "SRTMGL1_NC NASA Shuttle Radar Topography Mission Global 1 arc second NetCDF V003\n",
      "SRTMGL30 NASA Shuttle Radar Topography Mission Global 30 arc second V002\n"
     ]
    }
   ],
   "source": [
    "# search for the appropriate DEM\n",
    "\n",
    "datasets = earthaccess.search_datasets(keyword='SRTM DEM', count=11)\n",
    "for dataset in datasets:\n",
    "    print(dataset['umm']['ShortName'], dataset['umm']['EntryTitle'])"
   ]
  },
  {
   "cell_type": "code",
   "execution_count": 7,
   "metadata": {},
   "outputs": [
    {
     "data": {
      "text/html": [
       "<div>\n",
       "<style scoped>\n",
       "    .dataframe tbody tr th:only-of-type {\n",
       "        vertical-align: middle;\n",
       "    }\n",
       "\n",
       "    .dataframe tbody tr th {\n",
       "        vertical-align: top;\n",
       "    }\n",
       "\n",
       "    .dataframe thead th {\n",
       "        text-align: right;\n",
       "    }\n",
       "</style>\n",
       "<table border=\"1\" class=\"dataframe\">\n",
       "  <thead>\n",
       "    <tr style=\"text-align: right;\">\n",
       "      <th></th>\n",
       "      <th>minx</th>\n",
       "      <th>miny</th>\n",
       "      <th>maxx</th>\n",
       "      <th>maxy</th>\n",
       "    </tr>\n",
       "  </thead>\n",
       "  <tbody>\n",
       "    <tr>\n",
       "      <th>16</th>\n",
       "      <td>-112.869628</td>\n",
       "      <td>42.029103</td>\n",
       "      <td>-112.522562</td>\n",
       "      <td>42.331612</td>\n",
       "    </tr>\n",
       "  </tbody>\n",
       "</table>\n",
       "</div>"
      ],
      "text/plain": [
       "          minx       miny        maxx       maxy\n",
       "16 -112.869628  42.029103 -112.522562  42.331612"
      ]
     },
     "execution_count": 7,
     "metadata": {},
     "output_type": "execute_result"
    }
   ],
   "source": [
    "curl_gdf.bounds"
   ]
  },
  {
   "cell_type": "code",
   "execution_count": 8,
   "metadata": {},
   "outputs": [
    {
     "data": {
      "text/html": [
       "<div>\n",
       "<style scoped>\n",
       "    .dataframe tbody tr th:only-of-type {\n",
       "        vertical-align: middle;\n",
       "    }\n",
       "\n",
       "    .dataframe tbody tr th {\n",
       "        vertical-align: top;\n",
       "    }\n",
       "\n",
       "    .dataframe thead th {\n",
       "        text-align: right;\n",
       "    }\n",
       "</style>\n",
       "<table border=\"1\" class=\"dataframe\">\n",
       "  <thead>\n",
       "    <tr style=\"text-align: right;\">\n",
       "      <th></th>\n",
       "      <th>minx</th>\n",
       "      <th>miny</th>\n",
       "      <th>maxx</th>\n",
       "      <th>maxy</th>\n",
       "    </tr>\n",
       "  </thead>\n",
       "  <tbody>\n",
       "    <tr>\n",
       "      <th>3</th>\n",
       "      <td>-97.468801</td>\n",
       "      <td>46.095335</td>\n",
       "      <td>-96.938539</td>\n",
       "      <td>46.572034</td>\n",
       "    </tr>\n",
       "  </tbody>\n",
       "</table>\n",
       "</div>"
      ],
      "text/plain": [
       "        minx       miny       maxx       maxy\n",
       "3 -97.468801  46.095335 -96.938539  46.572034"
      ]
     },
     "execution_count": 8,
     "metadata": {},
     "output_type": "execute_result"
    }
   ],
   "source": [
    "shey_gdf.bounds"
   ]
  },
  {
   "cell_type": "code",
   "execution_count": 9,
   "metadata": {},
   "outputs": [
    {
     "name": "stdout",
     "output_type": "stream",
     "text": [
      "[Collection: {'ShortName': 'SRTMGL1', 'Version': '003'}\n",
      "Spatial coverage: {'HorizontalSpatialDomain': {'Geometry': {'BoundingRectangles': [{'WestBoundingCoordinate': -97.00027778, 'EastBoundingCoordinate': -95.99972222, 'NorthBoundingCoordinate': 47.00027778, 'SouthBoundingCoordinate': 45.99972222}]}}}\n",
      "Temporal coverage: {'RangeDateTime': {'BeginningDateTime': '2000-02-11T00:00:00.000Z', 'EndingDateTime': '2000-02-21T23:59:59.000Z'}}\n",
      "Size(MB): 4.87553\n",
      "Data: ['https://data.lpdaac.earthdatacloud.nasa.gov/lp-prod-protected/SRTMGL1.003/N46W097.SRTMGL1.hgt/N46W097.SRTMGL1.hgt.zip'], Collection: {'ShortName': 'SRTMGL1', 'Version': '003'}\n",
      "Spatial coverage: {'HorizontalSpatialDomain': {'Geometry': {'BoundingRectangles': [{'WestBoundingCoordinate': -98.00027778, 'EastBoundingCoordinate': -96.99972222, 'NorthBoundingCoordinate': 47.00027778, 'SouthBoundingCoordinate': 45.99972222}]}}}\n",
      "Temporal coverage: {'RangeDateTime': {'BeginningDateTime': '2000-02-11T00:00:00.000Z', 'EndingDateTime': '2000-02-21T23:59:59.000Z'}}\n",
      "Size(MB): 4.95707\n",
      "Data: ['https://data.lpdaac.earthdatacloud.nasa.gov/lp-prod-protected/SRTMGL1.003/N46W098.SRTMGL1.hgt/N46W098.SRTMGL1.hgt.zip']]\n"
     ]
    }
   ],
   "source": [
    "# xmin, ymin, xmax, ymax = shey_gdf.total_bounds\n",
    "bounds = tuple(shey_gdf.total_bounds)\n",
    "srtm_p_results = earthaccess.search_data(\n",
    "    short_name = \"SRTMGL1\",\n",
    "    bounding_box = bounds\n",
    ")\n",
    "print(srtm_p_results)  # See if any results are found"
   ]
  },
  {
   "cell_type": "code",
   "execution_count": 10,
   "metadata": {},
   "outputs": [],
   "source": [
    "## Creating a pattern for selecting srtm tiles based on the grassland gdf bounds\n",
    "\n",
    "# Extract bounding box from shey_gdf\n",
    "xmin, ymin, xmax, ymax = shey_gdf.total_bounds\n",
    "\n",
    "# Generate SRTM tile names based on integer degree tiles\n",
    "latitudes = range(int(ymin), int(ymax) + 1)\n",
    "longitudes = range(int(xmin), int(xmax) + 1)\n",
    "\n",
    "# Create SRTM file patterns\n",
    "srtm_p_pattern_list = []\n",
    "for lat in latitudes:\n",
    "    for lon in longitudes:\n",
    "        lat_prefix = f\"N{lat}\" if lat >= 0 else f\"S{abs(lat)}\"\n",
    "        lon_prefix = f\"E{lon}\" if lon >= 0 else f\"W{abs(lon)}\"\n",
    "        srtm_p_pattern_list.append(os.path.join(elevation_dir, f\"{lat_prefix}{lon_prefix}.hgt.zip\"))\n",
    "\n",
    "# # Use glob to find matching files\n",
    "# srtm_p_pattern = [glob(pattern) for pattern in srtm_p_pattern_list]\n",
    "# srtm_p_pattern = [item for sublist in srtm_p_pattern for item in sublist]  # Flatten list\n",
    "\n",
    "# print(\"Matching SRTM files:\", srtm_p_pattern)\n"
   ]
  },
  {
   "cell_type": "code",
   "execution_count": 11,
   "metadata": {},
   "outputs": [
    {
     "data": {
      "text/plain": [
       "['C:\\\\Users\\\\moenc\\\\earth-analytics\\\\data\\\\srtm\\\\N46W97.hgt.zip',\n",
       " 'C:\\\\Users\\\\moenc\\\\earth-analytics\\\\data\\\\srtm\\\\N46W96.hgt.zip']"
      ]
     },
     "execution_count": 11,
     "metadata": {},
     "output_type": "execute_result"
    }
   ],
   "source": [
    "srtm_p_pattern_list"
   ]
  },
  {
   "cell_type": "code",
   "execution_count": 12,
   "metadata": {},
   "outputs": [
    {
     "name": "stdout",
     "output_type": "stream",
     "text": [
      "['N36W103.SRTMGL1.hgt.zip', 'N36W104.SRTMGL1.hgt.zip', 'N36W105.SRTMGL1.hgt.zip', 'N37W103.SRTMGL1.hgt.zip', 'N37W104.SRTMGL1.hgt.zip', 'N37W105.SRTMGL1.hgt.zip', 'N40W104.SRTMGL1.hgt.zip', 'N40W105.SRTMGL1.hgt.zip', 'N41W104.SRTMGL1.hgt.zip', 'N41W105.SRTMGL1.hgt.zip', 'N43W102.SRTMGL1.hgt.zip', 'N43W103.SRTMGL1.hgt.zip', 'N43W104.SRTMGL1.hgt.zip', 'N43W105.SRTMGL1.hgt.zip', 'N46W103.hgt', 'N46W103.SRTMGL1.hgt.zip', 'N46W104.hgt', 'N46W104.SRTMGL1.hgt.zip', 'N46W105.hgt', 'N46W105.SRTMGL1.hgt.zip', 'N47W103.SRTMGL1.hgt.zip', 'N47W104.SRTMGL1.hgt.zip', 'N47W105.SRTMGL1.hgt.zip', 'N48W103.SRTMGL1.hgt.zip', 'N48W104.SRTMGL1.hgt.zip', 'N48W105.SRTMGL1.hgt.zip']\n"
     ]
    }
   ],
   "source": [
    "print(os.listdir(elevation_dir))"
   ]
  },
  {
   "cell_type": "code",
   "execution_count": 32,
   "metadata": {},
   "outputs": [
    {
     "ename": "NameError",
     "evalue": "name 'requests' is not defined",
     "output_type": "error",
     "traceback": [
      "\u001b[1;31m---------------------------------------------------------------------------\u001b[0m",
      "\u001b[1;31mNameError\u001b[0m                                 Traceback (most recent call last)",
      "Cell \u001b[1;32mIn[32], line 8\u001b[0m\n\u001b[0;32m      5\u001b[0m \u001b[38;5;66;03m# Download the zip file once\u001b[39;00m\n\u001b[0;32m      6\u001b[0m \u001b[38;5;28;01mif\u001b[39;00m \u001b[38;5;129;01mnot\u001b[39;00m os\u001b[38;5;241m.\u001b[39mpath\u001b[38;5;241m.\u001b[39mexists(zip_path):\n\u001b[0;32m      7\u001b[0m     \u001b[38;5;66;03m### query with the url\u001b[39;00m\n\u001b[1;32m----> 8\u001b[0m     response \u001b[38;5;241m=\u001b[39m \u001b[43mrequests\u001b[49m\u001b[38;5;241m.\u001b[39mget(shey_url)\n\u001b[0;32m      9\u001b[0m     \u001b[38;5;66;03m### check if response was successful\u001b[39;00m\n\u001b[0;32m     10\u001b[0m     \u001b[38;5;28;01mif\u001b[39;00m response\u001b[38;5;241m.\u001b[39mstatus_code \u001b[38;5;241m==\u001b[39m \u001b[38;5;241m200\u001b[39m:\n\u001b[0;32m     11\u001b[0m         \u001b[38;5;66;03m### save the zip file\u001b[39;00m\n",
      "\u001b[1;31mNameError\u001b[0m: name 'requests' is not defined"
     ]
    }
   ],
   "source": [
    "## Note: Edits needed! Downloads a single zip file.\n",
    "\n",
    "### zip path -- we know we want the \"08\" file because the watershed code starts with \"08\"\n",
    "zip_path = os.path.join(elevation_dir, \"C:\\\\Users\\\\moenc\\\\earth-analytics\\\\data\\\\srtm\\\\N46W97.hgt.zip\")\n",
    "# Download the zip file once\n",
    "if not os.path.exists(zip_path):\n",
    "    ### query with the url\n",
    "    response = requests.get(shey_url)\n",
    "    ### check if response was successful\n",
    "    if response.status_code == 200:\n",
    "        ### save the zip file\n",
    "        with open(zip_path, 'wb') as f:\n",
    "            f.write(response.content)\n",
    "    else:\n",
    "        print(f\"Failed to download the file. Status code: {response.status_code}\")\n",
    "        exit()"
   ]
  },
  {
   "cell_type": "code",
   "execution_count": null,
   "metadata": {},
   "outputs": [
    {
     "ename": "TypeError",
     "evalue": "expected str, bytes or os.PathLike object, not list",
     "output_type": "error",
     "traceback": [
      "\u001b[1;31m---------------------------------------------------------------------------\u001b[0m",
      "\u001b[1;31mTypeError\u001b[0m                                 Traceback (most recent call last)",
      "Cell \u001b[1;32mIn[28], line 23\u001b[0m\n\u001b[0;32m     17\u001b[0m     srtm_p_results \u001b[38;5;241m=\u001b[39m earthaccess\u001b[38;5;241m.\u001b[39msearch_data(\n\u001b[0;32m     18\u001b[0m         short_name\u001b[38;5;241m=\u001b[39m\u001b[38;5;124m\"\u001b[39m\u001b[38;5;124mSRTMGL1\u001b[39m\u001b[38;5;124m\"\u001b[39m,\n\u001b[0;32m     19\u001b[0m         bounding_box\u001b[38;5;241m=\u001b[39mbounds_p\n\u001b[0;32m     20\u001b[0m     )\n\u001b[0;32m     21\u001b[0m     srtm_p_results \u001b[38;5;241m=\u001b[39m earthaccess\u001b[38;5;241m.\u001b[39mdownload(srtm_p_results, elevation_dir)\n\u001b[1;32m---> 23\u001b[0m \u001b[38;5;28;01mif\u001b[39;00m \u001b[38;5;129;01mnot\u001b[39;00m \u001b[43mglob\u001b[49m\u001b[43m(\u001b[49m\u001b[43msrtm_p_pattern\u001b[49m\u001b[43m)\u001b[49m:\n\u001b[0;32m     24\u001b[0m     srtm_p_results \u001b[38;5;241m=\u001b[39m earthaccess\u001b[38;5;241m.\u001b[39msearch_data(\n\u001b[0;32m     25\u001b[0m         short_name \u001b[38;5;241m=\u001b[39m \u001b[38;5;124m\"\u001b[39m\u001b[38;5;124mSRTMGL1\u001b[39m\u001b[38;5;124m\"\u001b[39m,\n\u001b[0;32m     26\u001b[0m         bounding_box\u001b[38;5;241m=\u001b[39mbounds_buffer    \n\u001b[0;32m     27\u001b[0m     )\n\u001b[0;32m     28\u001b[0m     srtm_p_results \u001b[38;5;241m=\u001b[39m earthaccess\u001b[38;5;241m.\u001b[39mdownload(srtm_p_results, elevation_dir)\n",
      "File \u001b[1;32mc:\\Users\\moenc\\miniconda3\\envs\\earth-analytics-python\\Lib\\glob.py:28\u001b[0m, in \u001b[0;36mglob\u001b[1;34m(pathname, root_dir, dir_fd, recursive, include_hidden)\u001b[0m\n\u001b[0;32m     13\u001b[0m \u001b[38;5;28;01mdef\u001b[39;00m \u001b[38;5;21mglob\u001b[39m(pathname, \u001b[38;5;241m*\u001b[39m, root_dir\u001b[38;5;241m=\u001b[39m\u001b[38;5;28;01mNone\u001b[39;00m, dir_fd\u001b[38;5;241m=\u001b[39m\u001b[38;5;28;01mNone\u001b[39;00m, recursive\u001b[38;5;241m=\u001b[39m\u001b[38;5;28;01mFalse\u001b[39;00m,\n\u001b[0;32m     14\u001b[0m         include_hidden\u001b[38;5;241m=\u001b[39m\u001b[38;5;28;01mFalse\u001b[39;00m):\n\u001b[0;32m     15\u001b[0m \u001b[38;5;250m    \u001b[39m\u001b[38;5;124;03m\"\"\"Return a list of paths matching a pathname pattern.\u001b[39;00m\n\u001b[0;32m     16\u001b[0m \n\u001b[0;32m     17\u001b[0m \u001b[38;5;124;03m    The pattern may contain simple shell-style wildcards a la\u001b[39;00m\n\u001b[1;32m   (...)\u001b[0m\n\u001b[0;32m     26\u001b[0m \u001b[38;5;124;03m    zero or more directories and subdirectories.\u001b[39;00m\n\u001b[0;32m     27\u001b[0m \u001b[38;5;124;03m    \"\"\"\u001b[39;00m\n\u001b[1;32m---> 28\u001b[0m     \u001b[38;5;28;01mreturn\u001b[39;00m \u001b[38;5;28mlist\u001b[39m(iglob(pathname, root_dir\u001b[38;5;241m=\u001b[39mroot_dir, dir_fd\u001b[38;5;241m=\u001b[39mdir_fd, recursive\u001b[38;5;241m=\u001b[39mrecursive,\n\u001b[0;32m     29\u001b[0m                       include_hidden\u001b[38;5;241m=\u001b[39minclude_hidden))\n",
      "File \u001b[1;32mc:\\Users\\moenc\\miniconda3\\envs\\earth-analytics-python\\Lib\\glob.py:62\u001b[0m, in \u001b[0;36m_iglob\u001b[1;34m(pathname, root_dir, dir_fd, recursive, dironly, include_hidden)\u001b[0m\n\u001b[0;32m     60\u001b[0m \u001b[38;5;28;01mdef\u001b[39;00m \u001b[38;5;21m_iglob\u001b[39m(pathname, root_dir, dir_fd, recursive, dironly,\n\u001b[0;32m     61\u001b[0m            include_hidden\u001b[38;5;241m=\u001b[39m\u001b[38;5;28;01mFalse\u001b[39;00m):\n\u001b[1;32m---> 62\u001b[0m     dirname, basename \u001b[38;5;241m=\u001b[39m \u001b[43mos\u001b[49m\u001b[38;5;241;43m.\u001b[39;49m\u001b[43mpath\u001b[49m\u001b[38;5;241;43m.\u001b[39;49m\u001b[43msplit\u001b[49m\u001b[43m(\u001b[49m\u001b[43mpathname\u001b[49m\u001b[43m)\u001b[49m\n\u001b[0;32m     63\u001b[0m     \u001b[38;5;28;01mif\u001b[39;00m \u001b[38;5;129;01mnot\u001b[39;00m has_magic(pathname):\n\u001b[0;32m     64\u001b[0m         \u001b[38;5;28;01massert\u001b[39;00m \u001b[38;5;129;01mnot\u001b[39;00m dironly\n",
      "File \u001b[1;32m<frozen ntpath>:213\u001b[0m, in \u001b[0;36msplit\u001b[1;34m(p)\u001b[0m\n",
      "\u001b[1;31mTypeError\u001b[0m: expected str, bytes or os.PathLike object, not list"
     ]
    }
   ],
   "source": [
    "# # Define a pattern to identify DEM tiles associated with curl National Grassland.\n",
    "# srtm_p_pattern = [\n",
    "#     os.path.join(elevation_dir, 'N46*hgt.zip'),\n",
    "#     # os.path.join(elevation_dir, 'N42*hgt.zip'),\n",
    "# ]\n",
    "# bounds_p = tuple(shey_gdf.total_bounds)\n",
    "# buffer = 0.25\n",
    "# xmin, ymin, xmax, ymax = bounds_p\n",
    "# bounds_buffer = (xmin-buffer, ymin-buffer, xmax+buffer, ymax+buffer)\n",
    "\n",
    "# # compile srtm files into list\n",
    "# all_files = []\n",
    "# for pattern in srtm_p_pattern:\n",
    "#     all_files.extend(glob(pattern))\n",
    "\n",
    "# if not all_files:\n",
    "#     srtm_p_results = earthaccess.search_data(\n",
    "#         short_name=\"SRTMGL1\",\n",
    "#         bounding_box=bounds_p\n",
    "#     )\n",
    "#     srtm_p_results = earthaccess.download(srtm_p_results, elevation_dir)\n",
    "\n",
    "# if not glob(srtm_p_pattern):\n",
    "#     srtm_p_results = earthaccess.search_data(\n",
    "#         short_name = \"SRTMGL1\",\n",
    "#         bounding_box=bounds_buffer    \n",
    "#     )\n",
    "#     srtm_p_results = earthaccess.download(srtm_p_results, elevation_dir)"
   ]
  },
  {
   "cell_type": "code",
   "execution_count": null,
   "metadata": {},
   "outputs": [
    {
     "ename": "NameError",
     "evalue": "name 'all_files' is not defined",
     "output_type": "error",
     "traceback": [
      "\u001b[1;31m---------------------------------------------------------------------------\u001b[0m",
      "\u001b[1;31mNameError\u001b[0m                                 Traceback (most recent call last)",
      "Cell \u001b[1;32mIn[14], line 1\u001b[0m\n\u001b[1;32m----> 1\u001b[0m \u001b[43mall_files\u001b[49m\n",
      "\u001b[1;31mNameError\u001b[0m: name 'all_files' is not defined"
     ]
    }
   ],
   "source": [
    "# all_files"
   ]
  },
  {
   "cell_type": "code",
   "execution_count": 26,
   "metadata": {},
   "outputs": [
    {
     "ename": "FileNotFoundError",
     "evalue": "[Errno 2] No such file or directory: 'C:/Users/moenc/earth-analytics/data/srtm/N46W96.hgt.zip'",
     "output_type": "error",
     "traceback": [
      "\u001b[1;31m---------------------------------------------------------------------------\u001b[0m",
      "\u001b[1;31mFileNotFoundError\u001b[0m                         Traceback (most recent call last)",
      "Cell \u001b[1;32mIn[26], line 10\u001b[0m\n\u001b[0;32m      7\u001b[0m extract_path \u001b[38;5;241m=\u001b[39m elevation_dir\n\u001b[0;32m      9\u001b[0m \u001b[38;5;66;03m# Open the ZIP file in read mode\u001b[39;00m\n\u001b[1;32m---> 10\u001b[0m \u001b[38;5;28;01mwith\u001b[39;00m \u001b[43mzipfile\u001b[49m\u001b[38;5;241;43m.\u001b[39;49m\u001b[43mZipFile\u001b[49m\u001b[43m(\u001b[49m\u001b[43mzip_path\u001b[49m\u001b[43m,\u001b[49m\u001b[43m \u001b[49m\u001b[38;5;124;43m'\u001b[39;49m\u001b[38;5;124;43mr\u001b[39;49m\u001b[38;5;124;43m'\u001b[39;49m\u001b[43m)\u001b[49m \u001b[38;5;28;01mas\u001b[39;00m zip_ref:\n\u001b[0;32m     11\u001b[0m     \u001b[38;5;66;03m# Extract all contents to the specified folder\u001b[39;00m\n\u001b[0;32m     12\u001b[0m     zip_ref\u001b[38;5;241m.\u001b[39mextractall(extract_path)\n\u001b[0;32m     14\u001b[0m \u001b[38;5;28mprint\u001b[39m(\u001b[38;5;124m\"\u001b[39m\u001b[38;5;124mUnzipping complete\u001b[39m\u001b[38;5;124m\"\u001b[39m)\n",
      "File \u001b[1;32mc:\\Users\\moenc\\miniconda3\\envs\\earth-analytics-python\\Lib\\zipfile.py:1295\u001b[0m, in \u001b[0;36mZipFile.__init__\u001b[1;34m(self, file, mode, compression, allowZip64, compresslevel, strict_timestamps, metadata_encoding)\u001b[0m\n\u001b[0;32m   1293\u001b[0m \u001b[38;5;28;01mwhile\u001b[39;00m \u001b[38;5;28;01mTrue\u001b[39;00m:\n\u001b[0;32m   1294\u001b[0m     \u001b[38;5;28;01mtry\u001b[39;00m:\n\u001b[1;32m-> 1295\u001b[0m         \u001b[38;5;28mself\u001b[39m\u001b[38;5;241m.\u001b[39mfp \u001b[38;5;241m=\u001b[39m io\u001b[38;5;241m.\u001b[39mopen(file, filemode)\n\u001b[0;32m   1296\u001b[0m     \u001b[38;5;28;01mexcept\u001b[39;00m \u001b[38;5;167;01mOSError\u001b[39;00m:\n\u001b[0;32m   1297\u001b[0m         \u001b[38;5;28;01mif\u001b[39;00m filemode \u001b[38;5;129;01min\u001b[39;00m modeDict:\n",
      "\u001b[1;31mFileNotFoundError\u001b[0m: [Errno 2] No such file or directory: 'C:/Users/moenc/earth-analytics/data/srtm/N46W96.hgt.zip'"
     ]
    }
   ],
   "source": [
    "import zipfile # extract the zipped files\n",
    "\n",
    "# Path to the downloaded ZIP file\n",
    "zip_path = 'C:/Users/moenc/earth-analytics/data/srtm/N46W96.hgt.zip'\n",
    "\n",
    "# Folder where you want to extract the contents\n",
    "extract_path = elevation_dir\n",
    "\n",
    "# Open the ZIP file in read mode\n",
    "with zipfile.ZipFile(zip_path, 'r') as zip_ref:\n",
    "    # Extract all contents to the specified folder\n",
    "    zip_ref.extractall(extract_path)\n",
    "\n",
    "print(\"Unzipping complete\")"
   ]
  },
  {
   "cell_type": "code",
   "execution_count": null,
   "metadata": {},
   "outputs": [
    {
     "ename": "NoDataInBounds",
     "evalue": "No data found in bounds.",
     "output_type": "error",
     "traceback": [
      "\u001b[1;31m---------------------------------------------------------------------------\u001b[0m",
      "\u001b[1;31mNoDataInBounds\u001b[0m                            Traceback (most recent call last)",
      "Cell \u001b[1;32mIn[76], line 17\u001b[0m\n\u001b[0;32m     15\u001b[0m     \u001b[38;5;28;01mfor\u001b[39;00m srtm_p_path \u001b[38;5;129;01min\u001b[39;00m glob(pattern):\n\u001b[0;32m     16\u001b[0m         tile_da \u001b[38;5;241m=\u001b[39m rxr\u001b[38;5;241m.\u001b[39mopen_rasterio(srtm_p_path, mask_and_scale\u001b[38;5;241m=\u001b[39m\u001b[38;5;28;01mTrue\u001b[39;00m)\u001b[38;5;241m.\u001b[39msqueeze()\n\u001b[1;32m---> 17\u001b[0m         cropped_da \u001b[38;5;241m=\u001b[39m \u001b[43mtile_da\u001b[49m\u001b[38;5;241;43m.\u001b[39;49m\u001b[43mrio\u001b[49m\u001b[38;5;241;43m.\u001b[39;49m\u001b[43mclip_box\u001b[49m\u001b[43m(\u001b[49m\u001b[38;5;241;43m*\u001b[39;49m\u001b[43mbounds_buffer\u001b[49m\u001b[43m)\u001b[49m\n\u001b[0;32m     18\u001b[0m         srtm_p_da_list\u001b[38;5;241m.\u001b[39mappend(cropped_da)\n\u001b[0;32m     20\u001b[0m srtm_p_da \u001b[38;5;241m=\u001b[39m rxrmerge\u001b[38;5;241m.\u001b[39mmerge_arrays(srtm_p_da_list)\n",
      "File \u001b[1;32mc:\\Users\\moenc\\miniconda3\\envs\\earth-analytics-python\\Lib\\site-packages\\rioxarray\\raster_array.py:826\u001b[0m, in \u001b[0;36mRasterArray.clip_box\u001b[1;34m(self, minx, miny, maxx, maxy, auto_expand, auto_expand_limit, crs, allow_one_dimensional_raster)\u001b[0m\n\u001b[0;32m    824\u001b[0m     \u001b[38;5;28;01mraise\u001b[39;00m window_error\n\u001b[0;32m    825\u001b[0m \u001b[38;5;28;01mif\u001b[39;00m cl_array\u001b[38;5;241m.\u001b[39mrio\u001b[38;5;241m.\u001b[39mwidth \u001b[38;5;241m<\u001b[39m \u001b[38;5;241m1\u001b[39m \u001b[38;5;129;01mor\u001b[39;00m cl_array\u001b[38;5;241m.\u001b[39mrio\u001b[38;5;241m.\u001b[39mheight \u001b[38;5;241m<\u001b[39m \u001b[38;5;241m1\u001b[39m:\n\u001b[1;32m--> 826\u001b[0m     \u001b[38;5;28;01mraise\u001b[39;00m NoDataInBounds(\n\u001b[0;32m    827\u001b[0m         \u001b[38;5;124mf\u001b[39m\u001b[38;5;124m\"\u001b[39m\u001b[38;5;124mNo data found in bounds.\u001b[39m\u001b[38;5;132;01m{\u001b[39;00m_get_data_var_message(\u001b[38;5;28mself\u001b[39m\u001b[38;5;241m.\u001b[39m_obj)\u001b[38;5;132;01m}\u001b[39;00m\u001b[38;5;124m\"\u001b[39m\n\u001b[0;32m    828\u001b[0m     )\n\u001b[0;32m    829\u001b[0m \u001b[38;5;28;01mif\u001b[39;00m \u001b[38;5;129;01mnot\u001b[39;00m allow_one_dimensional_raster \u001b[38;5;129;01mand\u001b[39;00m (\n\u001b[0;32m    830\u001b[0m     cl_array\u001b[38;5;241m.\u001b[39mrio\u001b[38;5;241m.\u001b[39mwidth \u001b[38;5;241m==\u001b[39m \u001b[38;5;241m1\u001b[39m \u001b[38;5;129;01mor\u001b[39;00m cl_array\u001b[38;5;241m.\u001b[39mrio\u001b[38;5;241m.\u001b[39mheight \u001b[38;5;241m==\u001b[39m \u001b[38;5;241m1\u001b[39m\n\u001b[0;32m    831\u001b[0m ):\n\u001b[0;32m    832\u001b[0m     \u001b[38;5;28;01mraise\u001b[39;00m OneDimensionalRaster(\n\u001b[0;32m    833\u001b[0m         \u001b[38;5;124m\"\u001b[39m\u001b[38;5;124mAt least one of the clipped raster x,y coordinates\u001b[39m\u001b[38;5;124m\"\u001b[39m\n\u001b[0;32m    834\u001b[0m         \u001b[38;5;124m\"\u001b[39m\u001b[38;5;124m has only one point.\u001b[39m\u001b[38;5;124m\"\u001b[39m\n\u001b[0;32m    835\u001b[0m         \u001b[38;5;124mf\u001b[39m\u001b[38;5;124m\"\u001b[39m\u001b[38;5;132;01m{\u001b[39;00m_get_data_var_message(\u001b[38;5;28mself\u001b[39m\u001b[38;5;241m.\u001b[39m_obj)\u001b[38;5;132;01m}\u001b[39;00m\u001b[38;5;124m. \u001b[39m\u001b[38;5;124m\"\u001b[39m\n\u001b[0;32m    836\u001b[0m         \u001b[38;5;124m\"\u001b[39m\u001b[38;5;124mSet allow_one_dimensional_raster=True to disable this error.\u001b[39m\u001b[38;5;124m\"\u001b[39m\n\u001b[0;32m    837\u001b[0m     )\n",
      "\u001b[1;31mNoDataInBounds\u001b[0m: No data found in bounds."
     ]
    }
   ],
   "source": [
    "# # Print the DEM for curl natl. Grassland\n",
    "# srtm_p_da_list=[]\n",
    "# for srtm_p_path in glob(srtm_c_pattern):\n",
    "#     tile_da = rxr.open_rasterio(srtm_p_path, mask_and_scale=True).squeeze()\n",
    "#     cropped_da = tile_da.rio.clip_box(*bounds_buffer)\n",
    "#     srtm_p_da_list.append(cropped_da)\n",
    "    \n",
    "# srtm_p_da = rxrmerge.merge_arrays(srtm_p_da_list)\n",
    "# srtm_p_da.plot(cmap='terrain')\n",
    "# curl_gdf.boundary.plot(ax=plt.gca(), color='black')\n",
    "\n",
    "# Fix the second code block.\n",
    "srtm_p_da_list = []\n",
    "for pattern in srtm_p_pattern:\n",
    "    for srtm_p_path in glob(pattern):\n",
    "        tile_da = rxr.open_rasterio(srtm_p_path, mask_and_scale=True).squeeze()\n",
    "        cropped_da = tile_da.rio.clip_box(*bounds_buffer)\n",
    "        srtm_p_da_list.append(cropped_da)\n",
    "\n",
    "srtm_p_da = rxrmerge.merge_arrays(srtm_p_da_list)\n",
    "srtm_p_da.plot(cmap='terrain')\n",
    "shey_gdf.boundary.plot(ax=plt.gca(), color='white')"
   ]
  },
  {
   "cell_type": "code",
   "execution_count": null,
   "metadata": {},
   "outputs": [
    {
     "name": "stderr",
     "output_type": "stream",
     "text": [
      "UsageError: Unknown variable 'srtm_c_da'\n"
     ]
    }
   ],
   "source": [
    "%store srtm_p_da"
   ]
  },
  {
   "cell_type": "code",
   "execution_count": null,
   "metadata": {},
   "outputs": [
    {
     "name": "stdout",
     "output_type": "stream",
     "text": [
      "[Collection: {'ShortName': 'SRTMGL1', 'Version': '003'}\n",
      "Spatial coverage: {'HorizontalSpatialDomain': {'Geometry': {'BoundingRectangles': [{'WestBoundingCoordinate': -113.00027778, 'EastBoundingCoordinate': -111.99972222, 'NorthBoundingCoordinate': 43.00027778, 'SouthBoundingCoordinate': 41.99972222}]}}}\n",
      "Temporal coverage: {'RangeDateTime': {'BeginningDateTime': '2000-02-11T00:00:00.000Z', 'EndingDateTime': '2000-02-21T23:59:59.000Z'}}\n",
      "Size(MB): 11.1593\n",
      "Data: ['https://data.lpdaac.earthdatacloud.nasa.gov/lp-prod-protected/SRTMGL1.003/N42W113.SRTMGL1.hgt/N42W113.SRTMGL1.hgt.zip'], Collection: {'ShortName': 'SRTMGL1', 'Version': '003'}\n",
      "Spatial coverage: {'HorizontalSpatialDomain': {'Geometry': {'BoundingRectangles': [{'WestBoundingCoordinate': -113.00027778, 'EastBoundingCoordinate': -111.99972222, 'NorthBoundingCoordinate': 42.00027778, 'SouthBoundingCoordinate': 40.99972222}]}}}\n",
      "Temporal coverage: {'RangeDateTime': {'BeginningDateTime': '2000-02-11T00:00:00.000Z', 'EndingDateTime': '2000-02-21T23:59:59.000Z'}}\n",
      "Size(MB): 6.0536\n",
      "Data: ['https://data.lpdaac.earthdatacloud.nasa.gov/lp-prod-protected/SRTMGL1.003/N41W113.SRTMGL1.hgt/N41W113.SRTMGL1.hgt.zip'], Collection: {'ShortName': 'SRTMGL1', 'Version': '003'}\n",
      "Spatial coverage: {'HorizontalSpatialDomain': {'Geometry': {'BoundingRectangles': [{'WestBoundingCoordinate': -114.00027778, 'EastBoundingCoordinate': -112.99972222, 'NorthBoundingCoordinate': 43.00027778, 'SouthBoundingCoordinate': 41.99972222}]}}}\n",
      "Temporal coverage: {'RangeDateTime': {'BeginningDateTime': '2000-02-11T00:00:00.000Z', 'EndingDateTime': '2000-02-21T23:59:59.000Z'}}\n",
      "Size(MB): 8.48389\n",
      "Data: ['https://data.lpdaac.earthdatacloud.nasa.gov/lp-prod-protected/SRTMGL1.003/N42W114.SRTMGL1.hgt/N42W114.SRTMGL1.hgt.zip'], Collection: {'ShortName': 'SRTMGL1', 'Version': '003'}\n",
      "Spatial coverage: {'HorizontalSpatialDomain': {'Geometry': {'BoundingRectangles': [{'WestBoundingCoordinate': -114.00027778, 'EastBoundingCoordinate': -112.99972222, 'NorthBoundingCoordinate': 42.00027778, 'SouthBoundingCoordinate': 40.99972222}]}}}\n",
      "Temporal coverage: {'RangeDateTime': {'BeginningDateTime': '2000-02-11T00:00:00.000Z', 'EndingDateTime': '2000-02-21T23:59:59.000Z'}}\n",
      "Size(MB): 8.59104\n",
      "Data: ['https://data.lpdaac.earthdatacloud.nasa.gov/lp-prod-protected/SRTMGL1.003/N41W114.SRTMGL1.hgt/N41W114.SRTMGL1.hgt.zip']]\n"
     ]
    }
   ],
   "source": [
    "srtm_p_results = earthaccess.search_data(\n",
    "    short_name=\"SRTMGL1\",\n",
    "    bounding_box=bounds_buffer    \n",
    ")\n",
    "print(srtm_p_results)  # See if any results are found\n"
   ]
  },
  {
   "cell_type": "code",
   "execution_count": null,
   "metadata": {},
   "outputs": [],
   "source": [
    "## Creating a pattern for selecting srtm tiles based on the grassland gdf bounds\n",
    "\n",
    "# Extract bounding box from shey_gdf\n",
    "xmin, ymin, xmax, ymax = shey_gdf.total_bounds\n",
    "\n",
    "# Generate SRTM tile names based on integer degree tiles\n",
    "latitudes = range(int(ymin), int(ymax) + 1)\n",
    "longitudes = range(int(xmin), int(xmax) + 1)\n",
    "\n",
    "# Create SRTM file patterns\n",
    "srtm_c_pattern_list = []\n",
    "for lat in latitudes:\n",
    "    for lon in longitudes:\n",
    "        lat_prefix = f\"N{lat}\" if lat >= 0 else f\"S{abs(lat)}\"\n",
    "        lon_prefix = f\"E{lon}\" if lon >= 0 else f\"W{abs(lon)}\"\n",
    "        srtm_c_pattern_list.append(os.path.join(elevation_dir, f\"{lat_prefix}{lon_prefix}.hgt.zip\"))\n",
    "\n",
    "# # Use glob to find matching files\n",
    "# srtm_p_pattern = [glob(pattern) for pattern in srtm_p_pattern_list]\n",
    "# srtm_p_pattern = [item for sublist in srtm_p_pattern for item in sublist]  # Flatten list\n",
    "\n",
    "# print(\"Matching SRTM files:\", srtm_p_pattern)"
   ]
  },
  {
   "cell_type": "code",
   "execution_count": null,
   "metadata": {},
   "outputs": [],
   "source": [
    "# define a pattern which identifies the DEM's belongning to shey National Grasslands\n",
    "\n",
    "srtm_p_pattern = os.path.join(elevation_dir, 'N*hgt.zip')\n",
    "bounds_p = tuple(shey_gdf.total_bounds)\n",
    "if not glob(srtm_p_pattern):\n",
    "    srtm_p_results = earthaccess.search_data(\n",
    "        short_name = \"SRTMGL1\",\n",
    "        bounding_box=bounds_p    \n",
    "    )\n",
    "    srtm_p_results = earthaccess.download(srtm_p_results, elevation_dir)"
   ]
  },
  {
   "cell_type": "code",
   "execution_count": null,
   "metadata": {},
   "outputs": [
    {
     "data": {
      "text/plain": [
       "'C:\\\\Users\\\\moenc\\\\earth-analytics\\\\data\\\\srtm\\\\N*hgt.zip'"
      ]
     },
     "execution_count": 31,
     "metadata": {},
     "output_type": "execute_result"
    }
   ],
   "source": [
    "srtm_p_pattern"
   ]
  },
  {
   "cell_type": "code",
   "execution_count": null,
   "metadata": {},
   "outputs": [
    {
     "data": {
      "text/plain": [
       "(np.float64(-97.46880119000002),\n",
       " np.float64(46.09533527999997),\n",
       " np.float64(-96.93853933000003),\n",
       " np.float64(46.57203363000002))"
      ]
     },
     "execution_count": 32,
     "metadata": {},
     "output_type": "execute_result"
    }
   ],
   "source": [
    "bounds_p"
   ]
  },
  {
   "cell_type": "code",
   "execution_count": null,
   "metadata": {},
   "outputs": [],
   "source": [
    "# # Print the DEM for shey natl. Grassland\n",
    "# srtm_p_da_list=[]\n",
    "# for srtm_p_path in glob(srtm_p_pattern):\n",
    "#     tile_da = rxr.open_rasterio(srtm_p_path, mask_and_scale=True).squeeze()\n",
    "#     try:\n",
    "#         cropped_da = tile_da.rio.clip_box(*bounds_p)\n",
    "#     except: \n",
    "#         continue\n",
    "#     srtm_p_da_list.append(cropped_da)\n",
    "    \n",
    "# srtm_p_da = rxrmerge.merge_arrays(srtm_p_da_list)\n",
    "# srtm_p_da.plot(cmap='terrain')\n",
    "# shey_gdf.boundary.plot(ax=plt.gca(), color='black')"
   ]
  },
  {
   "cell_type": "code",
   "execution_count": null,
   "metadata": {},
   "outputs": [
    {
     "ename": "NameError",
     "evalue": "name 'srtm_c_da' is not defined",
     "output_type": "error",
     "traceback": [
      "\u001b[1;31m---------------------------------------------------------------------------\u001b[0m",
      "\u001b[1;31mNameError\u001b[0m                                 Traceback (most recent call last)",
      "Cell \u001b[1;32mIn[34], line 3\u001b[0m\n\u001b[0;32m      1\u001b[0m \u001b[38;5;66;03m# reproject the curl DEM into utm 13 N crs\u001b[39;00m\n\u001b[0;32m      2\u001b[0m utm_13n_epsg \u001b[38;5;241m=\u001b[39m \u001b[38;5;241m32613\u001b[39m\n\u001b[1;32m----> 3\u001b[0m srtm_c_proj_da \u001b[38;5;241m=\u001b[39m \u001b[43msrtm_c_da\u001b[49m\u001b[38;5;241m.\u001b[39mrio\u001b[38;5;241m.\u001b[39mreproject(utm_13n_epsg)\n\u001b[0;32m      4\u001b[0m \u001b[38;5;66;03m# srtm_p_proj_da = srtm_da.to_crs()\u001b[39;00m\n\u001b[0;32m      5\u001b[0m srtm_c_proj_da\u001b[38;5;241m.\u001b[39mplot()\n",
      "\u001b[1;31mNameError\u001b[0m: name 'srtm_c_da' is not defined"
     ]
    }
   ],
   "source": [
    "# reproject the curl DEM into utm 13 N crs\n",
    "utm_13n_epsg = 32613\n",
    "srtm_p_proj_da = srtm_p_da.rio.reproject(utm_13n_epsg)\n",
    "srtm_p_proj_da = srtm_da.to_crs()\n",
    "srtm_p_proj_da.plot()"
   ]
  },
  {
   "cell_type": "code",
   "execution_count": null,
   "metadata": {},
   "outputs": [
    {
     "ename": "NameError",
     "evalue": "name 'lmis_proj_da' is not defined",
     "output_type": "error",
     "traceback": [
      "\u001b[1;31m---------------------------------------------------------------------------\u001b[0m",
      "\u001b[1;31mNameError\u001b[0m                                 Traceback (most recent call last)",
      "Cell \u001b[1;32mIn[21], line 5\u001b[0m\n\u001b[0;32m      3\u001b[0m srtm_c_proj_da \u001b[38;5;241m=\u001b[39m srtm_c_da\u001b[38;5;241m.\u001b[39mrio\u001b[38;5;241m.\u001b[39mreproject(utm13_epsg)\n\u001b[0;32m      4\u001b[0m lmis_proj_gdf \u001b[38;5;241m=\u001b[39m lmis_gdf\u001b[38;5;241m.\u001b[39mto_crs(utm_13n_epsg)\n\u001b[1;32m----> 5\u001b[0m bounds_proj \u001b[38;5;241m=\u001b[39m \u001b[38;5;28mtuple\u001b[39m(\u001b[43mlmis_proj_da\u001b[49m\u001b[38;5;241m.\u001b[39mtotal_bounds)\n\u001b[0;32m      7\u001b[0m \u001b[38;5;66;03m# Calculate slope\u001b[39;00m\n\u001b[0;32m      8\u001b[0m slope_full_da \u001b[38;5;241m=\u001b[39m xrspatial\u001b[38;5;241m.\u001b[39mslope(srtm_c_proj_da)\n",
      "\u001b[1;31mNameError\u001b[0m: name 'lmis_proj_da' is not defined"
     ]
    }
   ],
   "source": [
    "# Reproject so units are in meters\n",
    "utm13_epsg = 32613\n",
    "srtm_p_proj_da = srtm_p_da.rio.reproject(utm13_epsg)\n",
    "shey_proj_gdf = shey_gdf.to_crs(utm_13n_epsg)\n",
    "bounds_proj = tuple(shey_proj_da.total_bounds)\n",
    "\n",
    "# Calculate slope\n",
    "slope_full_da = xrspatial.slope(srtm_p_proj_da)\n",
    "# slope_da = slope_full_da.rio.clip_box(*bounds_proj)\n",
    "slope_da = slope_full_da.rio.clip(shey_proj_gdf.geometry)\n",
    "\n",
    "# Plot slope, with curl bounds overlay\n",
    "slope_p_da.plot(cmap='terrain')\n",
    "shey_proj_gdf.boundary.plot(ax=plt.gca(), color='white', linewidth=.5)\n",
    "plt.show()"
   ]
  }
 ],
 "metadata": {
  "kernelspec": {
   "display_name": "earth-analytics-python",
   "language": "python",
   "name": "python3"
  },
  "language_info": {
   "codemirror_mode": {
    "name": "ipython",
    "version": 3
   },
   "file_extension": ".py",
   "mimetype": "text/x-python",
   "name": "python",
   "nbconvert_exporter": "python",
   "pygments_lexer": "ipython3",
   "version": "3.11.10"
  }
 },
 "nbformat": 4,
 "nbformat_minor": 2
}
