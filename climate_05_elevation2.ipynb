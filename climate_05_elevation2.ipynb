{
 "cells": [
  {
   "cell_type": "code",
   "execution_count": 25,
   "metadata": {},
   "outputs": [],
   "source": [
    "# import libraries\n",
    "import os\n",
    "import re\n",
    "import pathlib\n",
    "from glob import glob\n",
    "\n",
    "import matplotlib.pyplot as plt\n",
    "import earthaccess\n",
    "import xrspatial\n",
    "import geopandas as gpd\n",
    "import rioxarray as rxr\n",
    "import rioxarray.merge as rxrmerge"
   ]
  },
  {
   "cell_type": "code",
   "execution_count": 26,
   "metadata": {},
   "outputs": [],
   "source": [
    "# load stored variables\n",
    "%store -r shey_gdf shey_gdf c_soil_url_list p_soil_url_list"
   ]
  },
  {
   "cell_type": "code",
   "execution_count": 27,
   "metadata": {},
   "outputs": [],
   "source": [
    "# build project and elevation directories\n",
    "\n",
    "data_dir = os.path.join(\n",
    "    pathlib.Path.home(),\n",
    "    'earth-analytics',\n",
    "    'data'\n",
    ")\n",
    "project_dir = os.path.join(data_dir, 'habitat_suitability')\n",
    "elevation_dir = os.path.join(data_dir, 'srtm')\n",
    "\n",
    "os.makedirs(elevation_dir, exist_ok=True)"
   ]
  },
  {
   "cell_type": "code",
   "execution_count": 28,
   "metadata": {},
   "outputs": [
    {
     "data": {
      "text/plain": [
       "<earthaccess.auth.Auth at 0x20fe22f0250>"
      ]
     },
     "execution_count": 28,
     "metadata": {},
     "output_type": "execute_result"
    }
   ],
   "source": [
    "# login to earthaccess\n",
    "earthaccess.login(strategy=\"interactive\", persist=True)"
   ]
  },
  {
   "cell_type": "code",
   "execution_count": 29,
   "metadata": {},
   "outputs": [
    {
     "name": "stdout",
     "output_type": "stream",
     "text": [
      "NASADEM_SHHP NASADEM SRTM-only Height and Height Precision Mosaic Global 1 arc second V001\n",
      "NASADEM_SIM NASADEM SRTM Image Mosaic Global 1 arc second V001\n",
      "NASADEM_SSP NASADEM SRTM Subswath Global 1 arc second V001\n",
      "C_Pools_Fluxes_CONUS_1837 CMS: Terrestrial Carbon Stocks, Emissions, and Fluxes for Conterminous US, 2001-2016\n",
      "SRTMGL1 NASA Shuttle Radar Topography Mission Global 1 arc second V003\n",
      "GEDI01_B GEDI L1B Geolocated Waveform Data Global Footprint Level V002\n",
      "GEDI02_B GEDI L2B Canopy Cover and Vertical Profile Metrics Data Global Footprint Level V002\n",
      "NASADEM_HGT NASADEM Merged DEM Global 1 arc second V001\n",
      "SRTMGL3 NASA Shuttle Radar Topography Mission Global 3 arc second V003\n",
      "SRTMGL1_NC NASA Shuttle Radar Topography Mission Global 1 arc second NetCDF V003\n",
      "SRTMGL30 NASA Shuttle Radar Topography Mission Global 30 arc second V002\n"
     ]
    }
   ],
   "source": [
    "# search for the appropriate DEM\n",
    "\n",
    "datasets = earthaccess.search_datasets(keyword='SRTM DEM', count=11)\n",
    "for dataset in datasets:\n",
    "    print(dataset['umm']['ShortName'], dataset['umm']['EntryTitle'])"
   ]
  },
  {
   "cell_type": "code",
   "execution_count": 30,
   "metadata": {},
   "outputs": [],
   "source": [
    "# shey_gdf.bounds\n",
    "# bounds_buffer= (shey_gdf.total_bounds + 0.25)"
   ]
  },
  {
   "cell_type": "code",
   "execution_count": 31,
   "metadata": {},
   "outputs": [],
   "source": [
    "# srtm_c_results = earthaccess.search_data(\n",
    "#     short_name=\"SRTMGL1\",\n",
    "#     bounding_box=bounds_buffer    \n",
    "# )\n",
    "# print(srtm_c_results)  # See if any results are found\n"
   ]
  },
  {
   "cell_type": "code",
   "execution_count": 32,
   "metadata": {},
   "outputs": [],
   "source": [
    "## Creating a pattern for selecting srtm tiles based on the grassland gdf bounds\n",
    "\n",
    "# Extract bounding box from shey_gdf\n",
    "xmin, ymin, xmax, ymax = shey_gdf.total_bounds\n",
    "\n",
    "# Generate SRTM tile names based on integer degree tiles\n",
    "latitudes = range(int(ymin), int(ymax) + 1)\n",
    "longitudes = range(int(xmin), int(xmax) + 1)\n",
    "\n",
    "# Create SRTM file patterns\n",
    "srtm_c_pattern_list = []\n",
    "for lat in latitudes:\n",
    "    for lon in longitudes:\n",
    "        lat_prefix = f\"N{lat}\" if lat >= 0 else f\"S{abs(lat)}\"\n",
    "        lon_prefix = f\"E{lon}\" if lon >= 0 else f\"W{abs(lon)}\"\n",
    "        srtm_c_pattern_list.append(os.path.join(elevation_dir, f\"{lat_prefix}{lon_prefix}.hgt.zip\"))\n",
    "\n",
    "# # Use glob to find matching files\n",
    "# srtm_c_pattern = [glob(pattern) for pattern in srtm_c_pattern_list]\n",
    "# srtm_c_pattern = [item for sublist in srtm_c_pattern for item in sublist]  # Flatten list\n",
    "\n",
    "# print(\"Matching SRTM files:\", srtm_c_pattern)\n"
   ]
  },
  {
   "cell_type": "code",
   "execution_count": 33,
   "metadata": {},
   "outputs": [
    {
     "data": {
      "text/plain": [
       "['C:\\\\Users\\\\moenc\\\\earth-analytics\\\\data\\\\srtm\\\\N46W97.hgt.zip',\n",
       " 'C:\\\\Users\\\\moenc\\\\earth-analytics\\\\data\\\\srtm\\\\N46W96.hgt.zip']"
      ]
     },
     "execution_count": 33,
     "metadata": {},
     "output_type": "execute_result"
    }
   ],
   "source": [
    "srtm_c_pattern_list"
   ]
  },
  {
   "cell_type": "code",
   "execution_count": 34,
   "metadata": {},
   "outputs": [
    {
     "name": "stdout",
     "output_type": "stream",
     "text": [
      "['N36W103.SRTMGL1.hgt.zip', 'N36W104.SRTMGL1.hgt.zip', 'N36W105.SRTMGL1.hgt.zip', 'N37W103.SRTMGL1.hgt.zip', 'N37W104.SRTMGL1.hgt.zip', 'N37W105.SRTMGL1.hgt.zip', 'N40W104.SRTMGL1.hgt.zip', 'N40W105.SRTMGL1.hgt.zip', 'N41W104.SRTMGL1.hgt.zip', 'N41W105.SRTMGL1.hgt.zip', 'N43W102.SRTMGL1.hgt.zip', 'N43W103.SRTMGL1.hgt.zip', 'N43W104.SRTMGL1.hgt.zip', 'N43W105.SRTMGL1.hgt.zip', 'N46W103.SRTMGL1.hgt.zip', 'N46W104.SRTMGL1.hgt.zip', 'N46W105.SRTMGL1.hgt.zip', 'N47W103.SRTMGL1.hgt.zip', 'N47W104.SRTMGL1.hgt.zip', 'N47W105.SRTMGL1.hgt.zip', 'N48W103.SRTMGL1.hgt.zip', 'N48W104.SRTMGL1.hgt.zip', 'N48W105.SRTMGL1.hgt.zip']\n"
     ]
    }
   ],
   "source": [
    "print(os.listdir(elevation_dir))"
   ]
  },
  {
   "cell_type": "code",
   "execution_count": 35,
   "metadata": {},
   "outputs": [],
   "source": [
    "# Define a pattern to identify DEM tiles associated with shey National Grassland.\n",
    "srtm_c_pattern = [\n",
    "    os.path.join(elevation_dir, 'N43*hgt.zip'),\n",
    "]\n",
    "bounds_c = tuple(shey_gdf.total_bounds)\n",
    "buffer = 0.25\n",
    "xmin, ymin, xmax, ymax = bounds_c\n",
    "bounds_buffer = (xmin-buffer, ymin-buffer, xmax+buffer, ymax+buffer)\n",
    "\n",
    "# Fix the first code block.\n",
    "all_files = []\n",
    "for pattern in srtm_c_pattern:\n",
    "    all_files.extend(glob(pattern))\n",
    "\n",
    "if not all_files:\n",
    "    srtm_c_results = earthaccess.search_data(\n",
    "        short_name=\"SRTMGL1\",\n",
    "        bounding_box=bounds_c\n",
    "    )\n",
    "    srtm_c_results = earthaccess.download(srtm_c_results, elevation_dir)\n",
    "\n",
    "# if not glob(srtm_c_pattern):\n",
    "#     srtm_c_results = earthaccess.search_data(\n",
    "#         short_name = \"SRTMGL1\",\n",
    "#         bounding_box=bounds_buffer    \n",
    "#     )\n",
    "#     srtm_c_results = earthaccess.download(srtm_c_results, elevation_dir)"
   ]
  },
  {
   "cell_type": "code",
   "execution_count": null,
   "metadata": {},
   "outputs": [],
   "source": [
    "import zipfile\n",
    "\n",
    "# Path to the downloaded ZIP file\n",
    "zip_path = strm_\n",
    "\n",
    "# Folder where you want to extract the contents\n",
    "extract_path = 'extracted_folder'\n",
    "\n",
    "# Open the ZIP file in read mode\n",
    "with zipfile.ZipFile(zip_path, 'r') as zip_ref:\n",
    "    # Extract all contents to the specified folder\n",
    "    zip_ref.extractall(extract_path)\n",
    "\n",
    "print(\"Unzipping complete\")"
   ]
  },
  {
   "cell_type": "code",
   "execution_count": 36,
   "metadata": {},
   "outputs": [
    {
     "ename": "NoDataInBounds",
     "evalue": "No data found in bounds.",
     "output_type": "error",
     "traceback": [
      "\u001b[1;31m---------------------------------------------------------------------------\u001b[0m",
      "\u001b[1;31mNoDataInBounds\u001b[0m                            Traceback (most recent call last)",
      "Cell \u001b[1;32mIn[36], line 17\u001b[0m\n\u001b[0;32m     15\u001b[0m     \u001b[38;5;28;01mfor\u001b[39;00m srtm_c_path \u001b[38;5;129;01min\u001b[39;00m glob(pattern):\n\u001b[0;32m     16\u001b[0m         tile_da \u001b[38;5;241m=\u001b[39m rxr\u001b[38;5;241m.\u001b[39mopen_rasterio(srtm_c_path, mask_and_scale\u001b[38;5;241m=\u001b[39m\u001b[38;5;28;01mTrue\u001b[39;00m)\u001b[38;5;241m.\u001b[39msqueeze()\n\u001b[1;32m---> 17\u001b[0m         cropped_da \u001b[38;5;241m=\u001b[39m \u001b[43mtile_da\u001b[49m\u001b[38;5;241;43m.\u001b[39;49m\u001b[43mrio\u001b[49m\u001b[38;5;241;43m.\u001b[39;49m\u001b[43mclip_box\u001b[49m\u001b[43m(\u001b[49m\u001b[38;5;241;43m*\u001b[39;49m\u001b[43mbounds_buffer\u001b[49m\u001b[43m)\u001b[49m\n\u001b[0;32m     18\u001b[0m         srtm_c_da_list\u001b[38;5;241m.\u001b[39mappend(cropped_da)\n\u001b[0;32m     20\u001b[0m srtm_c_da \u001b[38;5;241m=\u001b[39m rxrmerge\u001b[38;5;241m.\u001b[39mmerge_arrays(srtm_c_da_list)\n",
      "File \u001b[1;32mc:\\Users\\moenc\\miniconda3\\envs\\earth-analytics-python\\Lib\\site-packages\\rioxarray\\raster_array.py:826\u001b[0m, in \u001b[0;36mRasterArray.clip_box\u001b[1;34m(self, minx, miny, maxx, maxy, auto_expand, auto_expand_limit, crs, allow_one_dimensional_raster)\u001b[0m\n\u001b[0;32m    824\u001b[0m     \u001b[38;5;28;01mraise\u001b[39;00m window_error\n\u001b[0;32m    825\u001b[0m \u001b[38;5;28;01mif\u001b[39;00m cl_array\u001b[38;5;241m.\u001b[39mrio\u001b[38;5;241m.\u001b[39mwidth \u001b[38;5;241m<\u001b[39m \u001b[38;5;241m1\u001b[39m \u001b[38;5;129;01mor\u001b[39;00m cl_array\u001b[38;5;241m.\u001b[39mrio\u001b[38;5;241m.\u001b[39mheight \u001b[38;5;241m<\u001b[39m \u001b[38;5;241m1\u001b[39m:\n\u001b[1;32m--> 826\u001b[0m     \u001b[38;5;28;01mraise\u001b[39;00m NoDataInBounds(\n\u001b[0;32m    827\u001b[0m         \u001b[38;5;124mf\u001b[39m\u001b[38;5;124m\"\u001b[39m\u001b[38;5;124mNo data found in bounds.\u001b[39m\u001b[38;5;132;01m{\u001b[39;00m_get_data_var_message(\u001b[38;5;28mself\u001b[39m\u001b[38;5;241m.\u001b[39m_obj)\u001b[38;5;132;01m}\u001b[39;00m\u001b[38;5;124m\"\u001b[39m\n\u001b[0;32m    828\u001b[0m     )\n\u001b[0;32m    829\u001b[0m \u001b[38;5;28;01mif\u001b[39;00m \u001b[38;5;129;01mnot\u001b[39;00m allow_one_dimensional_raster \u001b[38;5;129;01mand\u001b[39;00m (\n\u001b[0;32m    830\u001b[0m     cl_array\u001b[38;5;241m.\u001b[39mrio\u001b[38;5;241m.\u001b[39mwidth \u001b[38;5;241m==\u001b[39m \u001b[38;5;241m1\u001b[39m \u001b[38;5;129;01mor\u001b[39;00m cl_array\u001b[38;5;241m.\u001b[39mrio\u001b[38;5;241m.\u001b[39mheight \u001b[38;5;241m==\u001b[39m \u001b[38;5;241m1\u001b[39m\n\u001b[0;32m    831\u001b[0m ):\n\u001b[0;32m    832\u001b[0m     \u001b[38;5;28;01mraise\u001b[39;00m OneDimensionalRaster(\n\u001b[0;32m    833\u001b[0m         \u001b[38;5;124m\"\u001b[39m\u001b[38;5;124mAt least one of the clipped raster x,y coordinates\u001b[39m\u001b[38;5;124m\"\u001b[39m\n\u001b[0;32m    834\u001b[0m         \u001b[38;5;124m\"\u001b[39m\u001b[38;5;124m has only one point.\u001b[39m\u001b[38;5;124m\"\u001b[39m\n\u001b[0;32m    835\u001b[0m         \u001b[38;5;124mf\u001b[39m\u001b[38;5;124m\"\u001b[39m\u001b[38;5;132;01m{\u001b[39;00m_get_data_var_message(\u001b[38;5;28mself\u001b[39m\u001b[38;5;241m.\u001b[39m_obj)\u001b[38;5;132;01m}\u001b[39;00m\u001b[38;5;124m. \u001b[39m\u001b[38;5;124m\"\u001b[39m\n\u001b[0;32m    836\u001b[0m         \u001b[38;5;124m\"\u001b[39m\u001b[38;5;124mSet allow_one_dimensional_raster=True to disable this error.\u001b[39m\u001b[38;5;124m\"\u001b[39m\n\u001b[0;32m    837\u001b[0m     )\n",
      "\u001b[1;31mNoDataInBounds\u001b[0m: No data found in bounds."
     ]
    }
   ],
   "source": [
    "# # Print the DEM for shey natl. Grassland\n",
    "# srtm_c_da_list=[]\n",
    "# for srtm_c_path in glob(srtm_c_pattern):\n",
    "#     tile_da = rxr.open_rasterio(srtm_c_path, mask_and_scale=True).squeeze()\n",
    "#     cropped_da = tile_da.rio.clip_box(*bounds_buffer)\n",
    "#     srtm_c_da_list.append(cropped_da)\n",
    "    \n",
    "# srtm_c_da = rxrmerge.merge_arrays(srtm_c_da_list)\n",
    "# srtm_c_da.plot(cmap='terrain')\n",
    "# shey_gdf.boundary.plot(ax=plt.gca(), color='black')\n",
    "\n",
    "# Fix the second code block.\n",
    "srtm_c_da_list = []\n",
    "for pattern in srtm_c_pattern:\n",
    "    for srtm_c_path in glob(pattern):\n",
    "        tile_da = rxr.open_rasterio(srtm_c_path, mask_and_scale=True).squeeze()\n",
    "        cropped_da = tile_da.rio.clip_box(*bounds_buffer)\n",
    "        srtm_c_da_list.append(cropped_da)\n",
    "\n",
    "srtm_c_da = rxrmerge.merge_arrays(srtm_c_da_list)\n",
    "srtm_c_da.plot(cmap='terrain')\n",
    "shey_gdf.boundary.plot(ax=plt.gca(), color='white')"
   ]
  }
 ],
 "metadata": {
  "kernelspec": {
   "display_name": "earth-analytics-python",
   "language": "python",
   "name": "python3"
  },
  "language_info": {
   "codemirror_mode": {
    "name": "ipython",
    "version": 3
   },
   "file_extension": ".py",
   "mimetype": "text/x-python",
   "name": "python",
   "nbconvert_exporter": "python",
   "pygments_lexer": "ipython3",
   "version": "3.11.10"
  }
 },
 "nbformat": 4,
 "nbformat_minor": 2
}
