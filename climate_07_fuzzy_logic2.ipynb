{
 "cells": [
  {
   "cell_type": "code",
   "execution_count": null,
   "metadata": {},
   "outputs": [],
   "source": [
    "import cartopy.crs as ccrs\n",
    "import geopandas as geopandasimport hvplot.pandas\n",
    "import hvplot.xarray\n",
    "import numpy as numpy\n",
    "import rioxarray as rxr\n",
    "import rioxarray.merge as rxrmerge\n",
    "import skfuzzy\n",
    "import xarray as xarray"
   ]
  },
  {
   "cell_type": "code",
   "execution_count": 1,
   "metadata": {},
   "outputs": [],
   "source": [
    "%store -r shey_gdf curl_gdf"
   ]
  },
  {
   "cell_type": "code",
   "execution_count": 4,
   "metadata": {},
   "outputs": [
    {
     "ename": "NameError",
     "evalue": "name 'ccrs' is not defined",
     "output_type": "error",
     "traceback": [
      "\u001b[1;31m---------------------------------------------------------------------------\u001b[0m",
      "\u001b[1;31mNameError\u001b[0m                                 Traceback (most recent call last)",
      "Cell \u001b[1;32mIn[4], line 1\u001b[0m\n\u001b[1;32m----> 1\u001b[0m shey_gdf\u001b[38;5;241m.\u001b[39mto_crs(\u001b[43mccrs\u001b[49m\u001b[38;5;241m.\u001b[39mMercator())\u001b[38;5;241m.\u001b[39mhvplot(tiles\u001b[38;5;241m=\u001b[39m\u001b[38;5;124m'\u001b[39m\u001b[38;5;124mEsriNatGeo\u001b[39m\u001b[38;5;124m'\u001b[39m, line_width\u001b[38;5;241m=\u001b[39m\u001b[38;5;241m3\u001b[39m, fill_color\u001b[38;5;241m=\u001b[39m\u001b[38;5;28;01mNone\u001b[39;00m)\n",
      "\u001b[1;31mNameError\u001b[0m: name 'ccrs' is not defined"
     ]
    }
   ],
   "source": [
    "shey_gdf.to_crs(ccrs.Mercator()).hvplot(tiles='EsriNatGeo', line_width=3, fill_color=None)"
   ]
  },
  {
   "cell_type": "code",
   "execution_count": 2,
   "metadata": {},
   "outputs": [
    {
     "ename": "NameError",
     "evalue": "name 'floor' is not defined",
     "output_type": "error",
     "traceback": [
      "\u001b[1;31m---------------------------------------------------------------------------\u001b[0m",
      "\u001b[1;31mNameError\u001b[0m                                 Traceback (most recent call last)",
      "Cell \u001b[1;32mIn[2], line 3\u001b[0m\n\u001b[0;32m      1\u001b[0m xmin, ymin, xmax, ymax \u001b[38;5;241m=\u001b[39m shey_gdf\u001b[38;5;241m.\u001b[39mtotal_bounds\n\u001b[0;32m      2\u001b[0m tiles \u001b[38;5;241m=\u001b[39m []\n\u001b[1;32m----> 3\u001b[0m \u001b[38;5;28;01mfor\u001b[39;00m lat_min \u001b[38;5;129;01min\u001b[39;00m \u001b[38;5;28mrange\u001b[39m (\u001b[43mfloor\u001b[49m(ymin), ceil(ymax)):\n\u001b[0;32m      4\u001b[0m         \u001b[38;5;28;01mfor\u001b[39;00m lon_min \u001b[38;5;129;01min\u001b[39;00m \u001b[38;5;28mrange\u001b[39m (floor(xmin), ceil(xmax)):\n\u001b[0;32m      5\u001b[0m                     lat_max, lon_max \u001b[38;5;241m=\u001b[39m lat_min \u001b[38;5;241m+\u001b[39m\u001b[38;5;241m1\u001b[39m, lon_min \u001b[38;5;241m+\u001b[39m\u001b[38;5;241m1\u001b[39m\n",
      "\u001b[1;31mNameError\u001b[0m: name 'floor' is not defined"
     ]
    }
   ],
   "source": [
    "xmin, ymin, xmax, ymax = shey_gdf.total_bounds\n",
    "tiles = []\n",
    "for lat_min in range (floor(ymin), ceil(ymax)):\n",
    "        for lon_min in range (floor(xmin), ceil(xmax)):\n",
    "                    lat_max, lon_max = lat_min +1, lon_min +1\n",
    "                    ph_url = (\n",
    "                            \"http://hydrology.cee.duke.edu/POLARIS/PROPERTIES/v1.0\"\n",
    "                            \"/ph/mean/60_100\"\n",
    "                            f\"/lat{lat_min}{lat_max}_lon{lon_min}{lon_max}.tif\")\n",
    "                    tiles.append(rxr.open_rasterio(ph_url))\n",
    "\n",
    "ph_da = rxrmerge.merge_arrays(tiles).rio.clip_box(*shey_gdf.total_bounds)\n",
    "ph_da.plot()\n",
    "                    \n",
    "                            \n"
   ]
  },
  {
   "cell_type": "code",
   "execution_count": null,
   "metadata": {},
   "outputs": [],
   "source": [
    "year_min, year_max = 2025, 2055\n",
    "model = \"BNU-ESM\"\n",
    "emissions = 'rcp85'\n",
    "variable = 'pr'\n",
    "periods = []\n",
    "buffer_bounds = None\n",
    "for start_year in range (year_min, year_max, 5)"
   ]
  }
 ],
 "metadata": {
  "kernelspec": {
   "display_name": "earth-analytics-python",
   "language": "python",
   "name": "python3"
  },
  "language_info": {
   "codemirror_mode": {
    "name": "ipython",
    "version": 3
   },
   "file_extension": ".py",
   "mimetype": "text/x-python",
   "name": "python",
   "nbconvert_exporter": "python",
   "pygments_lexer": "ipython3",
   "version": "3.11.10"
  }
 },
 "nbformat": 4,
 "nbformat_minor": 2
}
