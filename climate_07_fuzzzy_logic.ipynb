{
 "cells": [
  {
   "cell_type": "code",
   "execution_count": 6,
   "metadata": {},
   "outputs": [],
   "source": [
    "# Imports\n",
    "import os\n",
    "import rioxarray as rxr\n",
    "import xarray as xr\n",
    "import numpy as np"
   ]
  },
  {
   "cell_type": "code",
   "execution_count": 7,
   "metadata": {},
   "outputs": [],
   "source": [
    "%store -r c_soil_url_list"
   ]
  },
  {
   "cell_type": "code",
   "execution_count": 8,
   "metadata": {},
   "outputs": [],
   "source": [
    "def calculate_suitability_score(raster, optimal_value, tolerance_range):\n",
    "    \"\"\"\n",
    "    Calculate a fuzzy suitability score (0–1) for each raster cell based on proximity to the optimal value.\n",
    "\n",
    "    Args:\n",
    "        raster (xarray.DataArray): Input raster layer.\n",
    "        optimal_value (float): The optimal value for the variable.\n",
    "        tolerance_range (float): The range within which values are considered suitable.\n",
    "\n",
    "    Returns:\n",
    "        xarray.DataArray: A raster of suitability scores (0–1).\n",
    "    \"\"\"\n",
    "    # Calculate suitability scores using a fuzzy Gaussian function\n",
    "    suitability = np.exp(-((raster - optimal_value) ** 2) / (2 * tolerance_range ** 2))\n",
    "    return suitability\n",
    "\n",
    "raster = c_soil_url_list\n",
    "optimal_value = 6.4\n",
    "tolerance_range = 3.2"
   ]
  },
  {
   "cell_type": "code",
   "execution_count": 9,
   "metadata": {},
   "outputs": [],
   "source": [
    "def build_habitat_suitability_model(\n",
    "        input_rasters, optimal_values, tolerance_ranges, output_dir, threshold=None):\n",
    "    \"\"\"\n",
    "    Build a habitat suitability model by combining fuzzy suitability scores for each variable.\n",
    "\n",
    "    Args:\n",
    "        input_rasters (list): List of paths to input raster files representing environmental variables.\n",
    "        optimal_values (list): List of optimal values for each variable.\n",
    "        tolerance_ranges (list): List of tolerance ranges for each variable.\n",
    "        output_dir (str): Directory to save the combined suitability raster.\n",
    "        threshold (float, optional): Threshold for highlighting highly suitable areas (default is None).\n",
    "\n",
    "    Returns:\n",
    "        str: Path to the final combined suitability raster.\n",
    "    \"\"\"\n",
    "    input_rasters = [c_soil_url_list]\n",
    "    optimal_values = [\n",
    "        (ph >= 6.0 and ph <= 6.8), \n",
    "        (pr >= 25 and pr <= 31), \n",
    "        (temp >= 85 and temp <= 95), \n",
    "        (soil_type in ['sand', 'clay'])\n",
    "        ]\n",
    "    tolerance_ranges = [\n",
    "        (pH>=4.8 and pH<=8.0), \n",
    "        (pr>=11 and pr<=45), \n",
    "        (temp>=60)\n",
    "        ]\n",
    "    output_dir = os.path.join('earth-analytics', 'data', \n",
    "                            'habitat_suitability', 'suitability_raster')\n",
    "    threshold = 0.85"
   ]
  },
  {
   "cell_type": "code",
   "execution_count": 10,
   "metadata": {},
   "outputs": [
    {
     "ename": "NameError",
     "evalue": "name 'ph' is not defined",
     "output_type": "error",
     "traceback": [
      "\u001b[1;31m---------------------------------------------------------------------------\u001b[0m",
      "\u001b[1;31mNameError\u001b[0m                                 Traceback (most recent call last)",
      "Cell \u001b[1;32mIn[10], line 6\u001b[0m\n\u001b[0;32m      2\u001b[0m build_habitat_suitability_model\n\u001b[0;32m      4\u001b[0m input_rasters \u001b[38;5;241m=\u001b[39m [c_soil_url_list]\n\u001b[0;32m      5\u001b[0m optimal_values \u001b[38;5;241m=\u001b[39m [\n\u001b[1;32m----> 6\u001b[0m     (\u001b[43mph\u001b[49m \u001b[38;5;241m>\u001b[39m\u001b[38;5;241m=\u001b[39m \u001b[38;5;241m6.0\u001b[39m \u001b[38;5;129;01mand\u001b[39;00m ph \u001b[38;5;241m<\u001b[39m\u001b[38;5;241m=\u001b[39m \u001b[38;5;241m6.8\u001b[39m), \n\u001b[0;32m      7\u001b[0m     (pr \u001b[38;5;241m>\u001b[39m\u001b[38;5;241m=\u001b[39m \u001b[38;5;241m25\u001b[39m \u001b[38;5;129;01mand\u001b[39;00m pr \u001b[38;5;241m<\u001b[39m\u001b[38;5;241m=\u001b[39m \u001b[38;5;241m31\u001b[39m), \n\u001b[0;32m      8\u001b[0m     (temp \u001b[38;5;241m>\u001b[39m\u001b[38;5;241m=\u001b[39m \u001b[38;5;241m85\u001b[39m \u001b[38;5;129;01mand\u001b[39;00m temp \u001b[38;5;241m<\u001b[39m\u001b[38;5;241m=\u001b[39m \u001b[38;5;241m95\u001b[39m), \n\u001b[0;32m      9\u001b[0m     (soil_type \u001b[38;5;129;01min\u001b[39;00m [\u001b[38;5;124m'\u001b[39m\u001b[38;5;124msand\u001b[39m\u001b[38;5;124m'\u001b[39m, \u001b[38;5;124m'\u001b[39m\u001b[38;5;124mclay\u001b[39m\u001b[38;5;124m'\u001b[39m])\n\u001b[0;32m     10\u001b[0m     ]\n\u001b[0;32m     11\u001b[0m tolerance_ranges \u001b[38;5;241m=\u001b[39m [\n\u001b[0;32m     12\u001b[0m     (ph\u001b[38;5;241m>\u001b[39m\u001b[38;5;241m=\u001b[39m\u001b[38;5;241m4.8\u001b[39m \u001b[38;5;129;01mand\u001b[39;00m ph\u001b[38;5;241m<\u001b[39m\u001b[38;5;241m=\u001b[39m\u001b[38;5;241m8.0\u001b[39m), \n\u001b[0;32m     13\u001b[0m     (pr\u001b[38;5;241m>\u001b[39m\u001b[38;5;241m=\u001b[39m\u001b[38;5;241m11\u001b[39m \u001b[38;5;129;01mand\u001b[39;00m pr\u001b[38;5;241m<\u001b[39m\u001b[38;5;241m=\u001b[39m\u001b[38;5;241m45\u001b[39m), \n\u001b[0;32m     14\u001b[0m     (temp\u001b[38;5;241m>\u001b[39m\u001b[38;5;241m=\u001b[39m\u001b[38;5;241m60\u001b[39m)\n\u001b[0;32m     15\u001b[0m     ]\n\u001b[0;32m     16\u001b[0m output_dir \u001b[38;5;241m=\u001b[39m os\u001b[38;5;241m.\u001b[39mpath\u001b[38;5;241m.\u001b[39mjoin(\u001b[38;5;124m'\u001b[39m\u001b[38;5;124mearth-analytics\u001b[39m\u001b[38;5;124m'\u001b[39m, \u001b[38;5;124m'\u001b[39m\u001b[38;5;124mdata\u001b[39m\u001b[38;5;124m'\u001b[39m, \n\u001b[0;32m     17\u001b[0m                         \u001b[38;5;124m'\u001b[39m\u001b[38;5;124mhabitat_suitability\u001b[39m\u001b[38;5;124m'\u001b[39m, \u001b[38;5;124m'\u001b[39m\u001b[38;5;124msuitability_raster\u001b[39m\u001b[38;5;124m'\u001b[39m)\n",
      "\u001b[1;31mNameError\u001b[0m: name 'ph' is not defined"
     ]
    }
   ],
   "source": [
    "# This code cell is trying to fix an error \"NameError: name input_rasters is not defined\". I took the object definitions out of the function in case this is what's causing the error.\n",
    "build_habitat_suitability_model\n",
    "\n",
    "input_rasters = [c_soil_url_list]\n",
    "optimal_values = [\n",
    "    (ph >= 6.0 and ph <= 6.8), \n",
    "    (pr >= 25 and pr <= 31), \n",
    "    (temp >= 85 and temp <= 95), \n",
    "    (soil_type in ['sand', 'clay'])\n",
    "    ]\n",
    "tolerance_ranges = [\n",
    "    (ph>=4.8 and ph<=8.0), \n",
    "    (pr>=11 and pr<=45), \n",
    "    (temp>=60)\n",
    "    ]\n",
    "output_dir = os.path.join('earth-analytics', 'data', \n",
    "                        'habitat_suitability', 'suitability_raster')\n",
    "threshold = 0.85"
   ]
  },
  {
   "cell_type": "code",
   "execution_count": null,
   "metadata": {},
   "outputs": [
    {
     "ename": "NameError",
     "evalue": "name 'input_rasters' is not defined",
     "output_type": "error",
     "traceback": [
      "\u001b[1;31m---------------------------------------------------------------------------\u001b[0m",
      "\u001b[1;31mNameError\u001b[0m                                 Traceback (most recent call last)",
      "Cell \u001b[1;32mIn[14], line 5\u001b[0m\n\u001b[0;32m      1\u001b[0m \u001b[38;5;66;03m# os.makedirs(output_dir, exist_ok=True)\u001b[39;00m\n\u001b[0;32m      2\u001b[0m \n\u001b[0;32m      3\u001b[0m \u001b[38;5;66;03m# Load and calculate suitability scores for each raster\u001b[39;00m\n\u001b[0;32m      4\u001b[0m suitability_layers \u001b[38;5;241m=\u001b[39m []\n\u001b[1;32m----> 5\u001b[0m \u001b[38;5;28;01mfor\u001b[39;00m raster_path, optimal_value, tolerance_range \u001b[38;5;129;01min\u001b[39;00m \u001b[38;5;28mzip\u001b[39m(\u001b[43minput_rasters\u001b[49m, optimal_values, tolerance_ranges):\n\u001b[0;32m      6\u001b[0m     raster \u001b[38;5;241m=\u001b[39m rxr\u001b[38;5;241m.\u001b[39mopen_rasterio(raster_path, masked\u001b[38;5;241m=\u001b[39m\u001b[38;5;28;01mTrue\u001b[39;00m)\u001b[38;5;241m.\u001b[39msqueeze()\n\u001b[0;32m      7\u001b[0m     suitability_layer \u001b[38;5;241m=\u001b[39m calculate_suitability_score(raster, optimal_value, tolerance_range)\n",
      "\u001b[1;31mNameError\u001b[0m: name 'input_rasters' is not defined"
     ]
    }
   ],
   "source": [
    "# os.makedirs(output_dir, exist_ok=True)\n",
    "\n",
    "# Load and calculate suitability scores for each raster\n",
    "suitability_layers = []\n",
    "for raster_path, optimal_value, tolerance_range in zip(input_rasters, optimal_values, tolerance_ranges):\n",
    "    raster = rxr.open_rasterio(raster_path, masked=True).squeeze()\n",
    "    suitability_layer = calculate_suitability_score(raster, optimal_value, tolerance_range)\n",
    "    suitability_layers.append(suitability_layer)\n",
    "\n",
    "# Combine suitability scores by multiplying across all layers\n",
    "combined_suitability = suitability_layers[0]\n",
    "for layer in suitability_layers[1:]:\n",
    "    combined_suitability *= layer\n",
    "\n",
    "# Apply a threshold if provided\n",
    "if threshold is not None:\n",
    "    combined_suitability = xr.where(combined_suitability >= threshold, combined_suitability, 0)\n",
    "\n",
    "# Save the combined suitability raster\n",
    "output_file = os.path.join(hab_suit, \"combined_suitability.tif\")\n",
    "combined_suitability.rio.to_raster(output_file)\n",
    "print(f\"Combined suitability raster saved to: {output_file}\")\n",
    "\n",
    "return output_file"
   ]
  },
  {
   "cell_type": "code",
   "execution_count": null,
   "metadata": {},
   "outputs": [],
   "source": [
    "# Example usage\n",
    "if __name__ == \"__main__\":\n",
    "    # Paths to input raster files (e.g., temperature, precipitation, soil pH)\n",
    "    input_rasters = [\n",
    "        \"path_to_temperature_raster/temperature.tif\",\n",
    "        \"path_to_precipitation_raster/precipitation.tif\",\n",
    "        \"path_to_soil_ph_raster/soil_ph.tif\"\n",
    "    ]\n",
    "\n",
    "    # Optimal values for Sorghastrum nutans for each variable\n",
    "    optimal_values = [25.0, 1000.0, 6.5]  # Example: temperature in °C, precipitation in mm, soil pH\n",
    "\n",
    "    # Tolerance ranges for each variable\n",
    "    tolerance_ranges = [5.0, 200.0, 0.5]  # Example: acceptable deviation for each variable\n",
    "\n",
    "    # Output directory to save the combined suitability raster\n",
    "    output_dir = \"path_to_output_directory\"\n",
    "\n",
    "    # Optional threshold to highlight highly suitable areas (e.g., 0.8)\n",
    "    threshold = 0.8\n",
    "\n",
    "    # Build the habitat suitability model\n",
    "    combined_suitability_file = build_habitat_suitability_model(\n",
    "        input_rasters, optimal_values, tolerance_ranges, output_dir, threshold\n",
    "    )\n",
    "\n",
    "    print(\"Habitat suitability model created:\", combined_suitability_file)"
   ]
  }
 ],
 "metadata": {
  "kernelspec": {
   "display_name": "earth-analytics-python",
   "language": "python",
   "name": "python3"
  },
  "language_info": {
   "codemirror_mode": {
    "name": "ipython",
    "version": 3
   },
   "file_extension": ".py",
   "mimetype": "text/x-python",
   "name": "python",
   "nbconvert_exporter": "python",
   "pygments_lexer": "ipython3",
   "version": "3.11.10"
  }
 },
 "nbformat": 4,
 "nbformat_minor": 2
}
